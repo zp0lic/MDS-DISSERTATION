{
 "cells": [
  {
   "cell_type": "code",
   "execution_count": 10,
   "id": "c87ac7fd-72ed-44f9-a676-679edbcefba9",
   "metadata": {},
   "outputs": [],
   "source": [
    "import dash\n",
    "import dash_bootstrap_components as dbc\n",
    "\n",
    "external_stylesheets = [dbc.themes.SOLAR]\n",
    "\n",
    "# meta_tags are required for the app layout to be mobile responsive\n",
    "app = dash.Dash(__name__, external_stylesheets = external_stylesheets, suppress_callback_exceptions=True,\n",
    "                meta_tags=[{'name': 'viewport',\n",
    "                            'content': 'width=device-width, initial-scale=1.0'}]\n",
    "                )\n",
    "server = app.server\n"
   ]
  },
  {
   "cell_type": "code",
   "execution_count": null,
   "id": "1ec33cd9-9515-40ed-9725-03351c63f49b",
   "metadata": {},
   "outputs": [],
   "source": []
  },
  {
   "cell_type": "code",
   "execution_count": null,
   "id": "96a4be42-6b39-46a3-9c66-5765a6e6485c",
   "metadata": {},
   "outputs": [],
   "source": []
  }
 ],
 "metadata": {
  "kernelspec": {
   "display_name": "Python 3",
   "language": "python",
   "name": "python3"
  },
  "language_info": {
   "codemirror_mode": {
    "name": "ipython",
    "version": 3
   },
   "file_extension": ".py",
   "mimetype": "text/x-python",
   "name": "python",
   "nbconvert_exporter": "python",
   "pygments_lexer": "ipython3",
   "version": "3.8.8"
  }
 },
 "nbformat": 4,
 "nbformat_minor": 5
}
