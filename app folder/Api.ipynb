{
 "cells": [
  {
   "cell_type": "code",
   "execution_count": 2,
   "metadata": {},
   "outputs": [
    {
     "name": "stderr",
     "output_type": "stream",
     "text": [
      "C:\\Users\\Rajan\\anaconda3\\lib\\site-packages\\pyproj\\crs\\crs.py:53: FutureWarning: '+init=<authority>:<code>' syntax is deprecated. '<authority>:<code>' is the preferred initialization method. When making the change, be mindful of axis order changes: https://pyproj4.github.io/pyproj/stable/gotchas.html#axis-order-changes-in-proj-6\n",
      "  return _prepare_from_string(\" \".join(pjargs))\n",
      "C:\\Users\\Rajan\\anaconda3\\lib\\site-packages\\pyproj\\crs\\crs.py:294: FutureWarning: '+init=<authority>:<code>' syntax is deprecated. '<authority>:<code>' is the preferred initialization method. When making the change, be mindful of axis order changes: https://pyproj4.github.io/pyproj/stable/gotchas.html#axis-order-changes-in-proj-6\n",
      "  projstring = _prepare_from_string(\" \".join((projstring, projkwargs)))\n"
     ]
    }
   ],
   "source": [
    "#imports\n",
    "from Api import *\n",
    "import seaborn as sns\n",
    "import pandas as pd\n",
    "import plotly.express as px\n",
    "import plotly.graph_objects as go\n",
    "import numpy as np\n",
    "from pyproj import Proj, transform\n",
    "conda install -c conda-forge dash-bootstrap-components\n",
    "import dash_bootstrap_components\n",
    "\n",
    "# convert easting and northing to latitude and longitude for use in plotly maps in app\n",
    "\n",
    "v84 = Proj(proj=\"latlong\",towgs84=\"0,0,0\",ellps=\"WGS84\")\n",
    "v36 = Proj(proj=\"latlong\", k=0.9996012717, ellps=\"airy\",\n",
    "        towgs84=\"446.448,-125.157,542.060,0.1502,0.2470,0.8421,-20.4894\")\n",
    "vgrid = Proj(init=\"world:bng\")\n",
    "\n",
    "\n",
    "def ENtoLL84(easting, northing):\n",
    "    \"\"\"Returns (longitude, latitude) tuple\n",
    "    \"\"\"\n",
    "    vlon36, vlat36 = vgrid(easting, northing, inverse=True)\n",
    "    return transform(v36, v84, vlon36, vlat36)"
   ]
  },
  {
   "cell_type": "code",
   "execution_count": 3,
   "metadata": {},
   "outputs": [
    {
     "name": "stderr",
     "output_type": "stream",
     "text": [
      "<ipython-input-2-fc223154cb3f>:24: DeprecationWarning: This function is deprecated. See: https://pyproj4.github.io/pyproj/stable/gotchas.html#upgrading-to-pyproj-2-from-pyproj-1\n",
      "  return transform(v36, v84, vlon36, vlat36)\n"
     ]
    },
    {
     "data": {
      "text/html": [
       "<div>\n",
       "<style scoped>\n",
       "    .dataframe tbody tr th:only-of-type {\n",
       "        vertical-align: middle;\n",
       "    }\n",
       "\n",
       "    .dataframe tbody tr th {\n",
       "        vertical-align: top;\n",
       "    }\n",
       "\n",
       "    .dataframe thead th {\n",
       "        text-align: right;\n",
       "    }\n",
       "</style>\n",
       "<table border=\"1\" class=\"dataframe\">\n",
       "  <thead>\n",
       "    <tr style=\"text-align: right;\">\n",
       "      <th></th>\n",
       "      <th>result</th>\n",
       "      <th>Determinand</th>\n",
       "      <th>Water Type</th>\n",
       "      <th>Easting</th>\n",
       "      <th>Northing</th>\n",
       "      <th>Date and Time</th>\n",
       "      <th>Location</th>\n",
       "      <th>LongLat</th>\n",
       "    </tr>\n",
       "  </thead>\n",
       "  <tbody>\n",
       "    <tr>\n",
       "      <th>0</th>\n",
       "      <td>5.1200</td>\n",
       "      <td>Solids, Suspended at 105 C</td>\n",
       "      <td>RIVER / RUNNING SURFACE WATER</td>\n",
       "      <td>390002</td>\n",
       "      <td>642395</td>\n",
       "      <td>2015-05-19T09:30:00</td>\n",
       "      <td>TILL @ HEATON MILL</td>\n",
       "      <td>(-2.160534365357642, 55.674945826365814)</td>\n",
       "    </tr>\n",
       "    <tr>\n",
       "      <th>1</th>\n",
       "      <td>0.3800</td>\n",
       "      <td>Nitrogen, Organic as N</td>\n",
       "      <td>RIVER / RUNNING SURFACE WATER</td>\n",
       "      <td>390002</td>\n",
       "      <td>642395</td>\n",
       "      <td>2015-05-19T09:30:00</td>\n",
       "      <td>TILL @ HEATON MILL</td>\n",
       "      <td>(-2.160534365357642, 55.674945826365814)</td>\n",
       "    </tr>\n",
       "    <tr>\n",
       "      <th>2</th>\n",
       "      <td>0.0300</td>\n",
       "      <td>Ammoniacal Nitrogen as N</td>\n",
       "      <td>RIVER / RUNNING SURFACE WATER</td>\n",
       "      <td>390002</td>\n",
       "      <td>642395</td>\n",
       "      <td>2015-05-19T09:30:00</td>\n",
       "      <td>TILL @ HEATON MILL</td>\n",
       "      <td>(-2.160534365357642, 55.674945826365814)</td>\n",
       "    </tr>\n",
       "    <tr>\n",
       "      <th>3</th>\n",
       "      <td>0.0288</td>\n",
       "      <td>Phosphate :- {TIP}</td>\n",
       "      <td>RIVER / RUNNING SURFACE WATER</td>\n",
       "      <td>390002</td>\n",
       "      <td>642395</td>\n",
       "      <td>2015-05-19T09:30:00</td>\n",
       "      <td>TILL @ HEATON MILL</td>\n",
       "      <td>(-2.160534365357642, 55.674945826365814)</td>\n",
       "    </tr>\n",
       "    <tr>\n",
       "      <th>4</th>\n",
       "      <td>11.2000</td>\n",
       "      <td>Temperature of Water</td>\n",
       "      <td>RIVER / RUNNING SURFACE WATER</td>\n",
       "      <td>390002</td>\n",
       "      <td>642395</td>\n",
       "      <td>2015-05-19T09:30:00</td>\n",
       "      <td>TILL @ HEATON MILL</td>\n",
       "      <td>(-2.160534365357642, 55.674945826365814)</td>\n",
       "    </tr>\n",
       "    <tr>\n",
       "      <th>...</th>\n",
       "      <td>...</td>\n",
       "      <td>...</td>\n",
       "      <td>...</td>\n",
       "      <td>...</td>\n",
       "      <td>...</td>\n",
       "      <td>...</td>\n",
       "      <td>...</td>\n",
       "      <td>...</td>\n",
       "    </tr>\n",
       "    <tr>\n",
       "      <th>5105</th>\n",
       "      <td>0.2000</td>\n",
       "      <td>Hydrocarbon Oils</td>\n",
       "      <td>GROUNDWATER</td>\n",
       "      <td>393426</td>\n",
       "      <td>590644</td>\n",
       "      <td>2014-02-04T11:14:00</td>\n",
       "      <td>BLAXTER COTTAGES SPRING SUPPLY FROM TAP</td>\n",
       "      <td>(-2.1048488681147792, 55.20999732573828)</td>\n",
       "    </tr>\n",
       "    <tr>\n",
       "      <th>5106</th>\n",
       "      <td>4.2300</td>\n",
       "      <td>Solids, Suspended at 105 C</td>\n",
       "      <td>GROUNDWATER</td>\n",
       "      <td>393426</td>\n",
       "      <td>590644</td>\n",
       "      <td>2014-03-13T08:43:00</td>\n",
       "      <td>BLAXTER COTTAGES SPRING SUPPLY FROM TAP</td>\n",
       "      <td>(-2.1048488681147792, 55.20999732573828)</td>\n",
       "    </tr>\n",
       "    <tr>\n",
       "      <th>5107</th>\n",
       "      <td>0.2000</td>\n",
       "      <td>Hydrocarbon Oils</td>\n",
       "      <td>GROUNDWATER</td>\n",
       "      <td>393426</td>\n",
       "      <td>590644</td>\n",
       "      <td>2014-03-13T08:43:00</td>\n",
       "      <td>BLAXTER COTTAGES SPRING SUPPLY FROM TAP</td>\n",
       "      <td>(-2.1048488681147792, 55.20999732573828)</td>\n",
       "    </tr>\n",
       "    <tr>\n",
       "      <th>5108</th>\n",
       "      <td>0.2000</td>\n",
       "      <td>Hydrocarbon Oils</td>\n",
       "      <td>GROUNDWATER</td>\n",
       "      <td>393426</td>\n",
       "      <td>590644</td>\n",
       "      <td>2014-04-03T11:33:00</td>\n",
       "      <td>BLAXTER COTTAGES SPRING SUPPLY FROM TAP</td>\n",
       "      <td>(-2.1048488681147792, 55.20999732573828)</td>\n",
       "    </tr>\n",
       "    <tr>\n",
       "      <th>5109</th>\n",
       "      <td>10.8000</td>\n",
       "      <td>Solids, Suspended at 105 C</td>\n",
       "      <td>GROUNDWATER</td>\n",
       "      <td>393426</td>\n",
       "      <td>590644</td>\n",
       "      <td>2014-04-03T11:33:00</td>\n",
       "      <td>BLAXTER COTTAGES SPRING SUPPLY FROM TAP</td>\n",
       "      <td>(-2.1048488681147792, 55.20999732573828)</td>\n",
       "    </tr>\n",
       "  </tbody>\n",
       "</table>\n",
       "<p>25110 rows × 8 columns</p>\n",
       "</div>"
      ],
      "text/plain": [
       "       result                 Determinand                     Water Type  \\\n",
       "0      5.1200  Solids, Suspended at 105 C  RIVER / RUNNING SURFACE WATER   \n",
       "1      0.3800      Nitrogen, Organic as N  RIVER / RUNNING SURFACE WATER   \n",
       "2      0.0300    Ammoniacal Nitrogen as N  RIVER / RUNNING SURFACE WATER   \n",
       "3      0.0288          Phosphate :- {TIP}  RIVER / RUNNING SURFACE WATER   \n",
       "4     11.2000        Temperature of Water  RIVER / RUNNING SURFACE WATER   \n",
       "...       ...                         ...                            ...   \n",
       "5105   0.2000            Hydrocarbon Oils                    GROUNDWATER   \n",
       "5106   4.2300  Solids, Suspended at 105 C                    GROUNDWATER   \n",
       "5107   0.2000            Hydrocarbon Oils                    GROUNDWATER   \n",
       "5108   0.2000            Hydrocarbon Oils                    GROUNDWATER   \n",
       "5109  10.8000  Solids, Suspended at 105 C                    GROUNDWATER   \n",
       "\n",
       "      Easting  Northing        Date and Time  \\\n",
       "0      390002    642395  2015-05-19T09:30:00   \n",
       "1      390002    642395  2015-05-19T09:30:00   \n",
       "2      390002    642395  2015-05-19T09:30:00   \n",
       "3      390002    642395  2015-05-19T09:30:00   \n",
       "4      390002    642395  2015-05-19T09:30:00   \n",
       "...       ...       ...                  ...   \n",
       "5105   393426    590644  2014-02-04T11:14:00   \n",
       "5106   393426    590644  2014-03-13T08:43:00   \n",
       "5107   393426    590644  2014-03-13T08:43:00   \n",
       "5108   393426    590644  2014-04-03T11:33:00   \n",
       "5109   393426    590644  2014-04-03T11:33:00   \n",
       "\n",
       "                                     Location  \\\n",
       "0                          TILL @ HEATON MILL   \n",
       "1                          TILL @ HEATON MILL   \n",
       "2                          TILL @ HEATON MILL   \n",
       "3                          TILL @ HEATON MILL   \n",
       "4                          TILL @ HEATON MILL   \n",
       "...                                       ...   \n",
       "5105  BLAXTER COTTAGES SPRING SUPPLY FROM TAP   \n",
       "5106  BLAXTER COTTAGES SPRING SUPPLY FROM TAP   \n",
       "5107  BLAXTER COTTAGES SPRING SUPPLY FROM TAP   \n",
       "5108  BLAXTER COTTAGES SPRING SUPPLY FROM TAP   \n",
       "5109  BLAXTER COTTAGES SPRING SUPPLY FROM TAP   \n",
       "\n",
       "                                       LongLat  \n",
       "0     (-2.160534365357642, 55.674945826365814)  \n",
       "1     (-2.160534365357642, 55.674945826365814)  \n",
       "2     (-2.160534365357642, 55.674945826365814)  \n",
       "3     (-2.160534365357642, 55.674945826365814)  \n",
       "4     (-2.160534365357642, 55.674945826365814)  \n",
       "...                                        ...  \n",
       "5105  (-2.1048488681147792, 55.20999732573828)  \n",
       "5106  (-2.1048488681147792, 55.20999732573828)  \n",
       "5107  (-2.1048488681147792, 55.20999732573828)  \n",
       "5108  (-2.1048488681147792, 55.20999732573828)  \n",
       "5109  (-2.1048488681147792, 55.20999732573828)  \n",
       "\n",
       "[25110 rows x 8 columns]"
      ]
     },
     "execution_count": 3,
     "metadata": {},
     "output_type": "execute_result"
    }
   ],
   "source": [
    "#dictionaries (list of multiple dictionaries)\n",
    "list1 = getMeasurements({'area': '3-35', 'samplingPointType': 'F6', '_limit': '10000'})\n",
    "list2= getMeasurements({'area': '3-35', 'samplingPointType': 'FA', '_limit': '10000'})\n",
    "list3= getMeasurements({'area': '3-35', 'samplingPointType': 'BB', '_limit': '10000'})\n",
    "\n",
    "#extract and replace determinand items from dictionaries\n",
    "\n",
    "for i in list1:\n",
    "    i['Determinand'] = i['determinand']['definition']\n",
    "    i['Water Type'] = i['sample']['sampledMaterialType']['label']\n",
    "    i['Easting'] = i['sample']['samplingPoint']['easting']\n",
    "    i['Northing'] = i['sample']['samplingPoint']['northing']\n",
    "    i['Date and Time'] = i['sample']['sampleDateTime']\n",
    "    i['Location'] = i['sample']['samplingPoint']['label']\n",
    "    i['LongLat'] = (ENtoLL84(i['Easting'],i['Northing']))\n",
    "    i.pop('determinand')\n",
    "    i.pop('@id')\n",
    "    if 'resultQualifier' in i:\n",
    "        i.pop('resultQualifier')\n",
    "    i.pop('sample')\n",
    "\n",
    "   \n",
    "    \n",
    "for i in list2:\n",
    "    i['Determinand'] = i['determinand']['definition']\n",
    "    i['Water Type'] = i['sample']['sampledMaterialType']['label']\n",
    "    i['Easting'] = i['sample']['samplingPoint']['easting']\n",
    "    i['Northing'] = i['sample']['samplingPoint']['northing']\n",
    "    i['Date and Time'] = i['sample']['sampleDateTime']\n",
    "    i['Location'] = i['sample']['samplingPoint']['label']\n",
    "    i['LongLat'] = (ENtoLL84(i['Easting'],i['Northing']))\n",
    "    i.pop('determinand')\n",
    "    i.pop('@id')\n",
    "    if 'resultQualifier' in i:\n",
    "        i.pop('resultQualifier')\n",
    "    i.pop('sample')\n",
    "\n",
    "for i in list3:\n",
    "    i['Determinand'] = i['determinand']['definition']\n",
    "    i['Water Type'] = i['sample']['sampledMaterialType']['label']\n",
    "    i['Easting'] = i['sample']['samplingPoint']['easting']\n",
    "    i['Northing'] = i['sample']['samplingPoint']['northing']\n",
    "    i['Date and Time'] = i['sample']['sampleDateTime']\n",
    "    i['Location'] = i['sample']['samplingPoint']['label']\n",
    "    i['LongLat'] = (ENtoLL84(i['Easting'],i['Northing']))\n",
    "    i.pop('determinand')\n",
    "    i.pop('@id')\n",
    "    if 'resultQualifier' in i:\n",
    "        i.pop('resultQualifier')\n",
    "    i.pop('sample')\n",
    "\n",
    "\n",
    "\n",
    "\n",
    "\n",
    "#dataframes\n",
    "df1 = pd.DataFrame(data=list1)\n",
    "#res_list_en = convert_lonlat(df1['Easting'], df1['Northing'])\n",
    "\n",
    "df2 = pd.DataFrame(data=list2)\n",
    "df3 = pd.DataFrame(data=list3)\n",
    "\n",
    "frames = [df1, df2, df3]\n",
    "\n",
    "result = pd.concat(frames)\n",
    "result\n",
    "\n"
   ]
  },
  {
   "cell_type": "code",
   "execution_count": null,
   "metadata": {},
   "outputs": [],
   "source": []
  },
  {
   "cell_type": "code",
   "execution_count": 6,
   "metadata": {},
   "outputs": [
    {
     "data": {
      "text/html": [
       "<div>\n",
       "<style scoped>\n",
       "    .dataframe tbody tr th:only-of-type {\n",
       "        vertical-align: middle;\n",
       "    }\n",
       "\n",
       "    .dataframe tbody tr th {\n",
       "        vertical-align: top;\n",
       "    }\n",
       "\n",
       "    .dataframe thead th {\n",
       "        text-align: right;\n",
       "    }\n",
       "</style>\n",
       "<table border=\"1\" class=\"dataframe\">\n",
       "  <thead>\n",
       "    <tr style=\"text-align: right;\">\n",
       "      <th></th>\n",
       "      <th>result</th>\n",
       "      <th>Determinand</th>\n",
       "      <th>Water Type</th>\n",
       "      <th>Easting</th>\n",
       "      <th>Northing</th>\n",
       "      <th>Date and Time</th>\n",
       "      <th>Location</th>\n",
       "      <th>LongLat</th>\n",
       "      <th>Year</th>\n",
       "      <th>Month</th>\n",
       "      <th>Longitude</th>\n",
       "      <th>Latitude</th>\n",
       "      <th>Date</th>\n",
       "    </tr>\n",
       "  </thead>\n",
       "  <tbody>\n",
       "    <tr>\n",
       "      <th>0</th>\n",
       "      <td>5.1200</td>\n",
       "      <td>Solids, Suspended at 105 C</td>\n",
       "      <td>RIVER / RUNNING SURFACE WATER</td>\n",
       "      <td>390002</td>\n",
       "      <td>642395</td>\n",
       "      <td>2015-05-19T09:30:00</td>\n",
       "      <td>TILL @ HEATON MILL</td>\n",
       "      <td>(-2.160534365357642, 55.674945826365814)</td>\n",
       "      <td>2015</td>\n",
       "      <td>5</td>\n",
       "      <td>-2.160534</td>\n",
       "      <td>55.674946</td>\n",
       "      <td>2015-05</td>\n",
       "    </tr>\n",
       "    <tr>\n",
       "      <th>1</th>\n",
       "      <td>0.3800</td>\n",
       "      <td>Nitrogen, Organic as N</td>\n",
       "      <td>RIVER / RUNNING SURFACE WATER</td>\n",
       "      <td>390002</td>\n",
       "      <td>642395</td>\n",
       "      <td>2015-05-19T09:30:00</td>\n",
       "      <td>TILL @ HEATON MILL</td>\n",
       "      <td>(-2.160534365357642, 55.674945826365814)</td>\n",
       "      <td>2015</td>\n",
       "      <td>5</td>\n",
       "      <td>-2.160534</td>\n",
       "      <td>55.674946</td>\n",
       "      <td>2015-05</td>\n",
       "    </tr>\n",
       "    <tr>\n",
       "      <th>2</th>\n",
       "      <td>0.0300</td>\n",
       "      <td>Ammoniacal Nitrogen as N</td>\n",
       "      <td>RIVER / RUNNING SURFACE WATER</td>\n",
       "      <td>390002</td>\n",
       "      <td>642395</td>\n",
       "      <td>2015-05-19T09:30:00</td>\n",
       "      <td>TILL @ HEATON MILL</td>\n",
       "      <td>(-2.160534365357642, 55.674945826365814)</td>\n",
       "      <td>2015</td>\n",
       "      <td>5</td>\n",
       "      <td>-2.160534</td>\n",
       "      <td>55.674946</td>\n",
       "      <td>2015-05</td>\n",
       "    </tr>\n",
       "    <tr>\n",
       "      <th>3</th>\n",
       "      <td>0.0288</td>\n",
       "      <td>Phosphate :- {TIP}</td>\n",
       "      <td>RIVER / RUNNING SURFACE WATER</td>\n",
       "      <td>390002</td>\n",
       "      <td>642395</td>\n",
       "      <td>2015-05-19T09:30:00</td>\n",
       "      <td>TILL @ HEATON MILL</td>\n",
       "      <td>(-2.160534365357642, 55.674945826365814)</td>\n",
       "      <td>2015</td>\n",
       "      <td>5</td>\n",
       "      <td>-2.160534</td>\n",
       "      <td>55.674946</td>\n",
       "      <td>2015-05</td>\n",
       "    </tr>\n",
       "    <tr>\n",
       "      <th>4</th>\n",
       "      <td>11.2000</td>\n",
       "      <td>Temperature of Water</td>\n",
       "      <td>RIVER / RUNNING SURFACE WATER</td>\n",
       "      <td>390002</td>\n",
       "      <td>642395</td>\n",
       "      <td>2015-05-19T09:30:00</td>\n",
       "      <td>TILL @ HEATON MILL</td>\n",
       "      <td>(-2.160534365357642, 55.674945826365814)</td>\n",
       "      <td>2015</td>\n",
       "      <td>5</td>\n",
       "      <td>-2.160534</td>\n",
       "      <td>55.674946</td>\n",
       "      <td>2015-05</td>\n",
       "    </tr>\n",
       "    <tr>\n",
       "      <th>...</th>\n",
       "      <td>...</td>\n",
       "      <td>...</td>\n",
       "      <td>...</td>\n",
       "      <td>...</td>\n",
       "      <td>...</td>\n",
       "      <td>...</td>\n",
       "      <td>...</td>\n",
       "      <td>...</td>\n",
       "      <td>...</td>\n",
       "      <td>...</td>\n",
       "      <td>...</td>\n",
       "      <td>...</td>\n",
       "      <td>...</td>\n",
       "    </tr>\n",
       "    <tr>\n",
       "      <th>5105</th>\n",
       "      <td>0.2000</td>\n",
       "      <td>Hydrocarbon Oils</td>\n",
       "      <td>GROUNDWATER</td>\n",
       "      <td>393426</td>\n",
       "      <td>590644</td>\n",
       "      <td>2014-02-04T11:14:00</td>\n",
       "      <td>BLAXTER COTTAGES SPRING SUPPLY FROM TAP</td>\n",
       "      <td>(-2.1048488681147792, 55.20999732573828)</td>\n",
       "      <td>2014</td>\n",
       "      <td>2</td>\n",
       "      <td>-2.104849</td>\n",
       "      <td>55.209997</td>\n",
       "      <td>2014-02</td>\n",
       "    </tr>\n",
       "    <tr>\n",
       "      <th>5106</th>\n",
       "      <td>4.2300</td>\n",
       "      <td>Solids, Suspended at 105 C</td>\n",
       "      <td>GROUNDWATER</td>\n",
       "      <td>393426</td>\n",
       "      <td>590644</td>\n",
       "      <td>2014-03-13T08:43:00</td>\n",
       "      <td>BLAXTER COTTAGES SPRING SUPPLY FROM TAP</td>\n",
       "      <td>(-2.1048488681147792, 55.20999732573828)</td>\n",
       "      <td>2014</td>\n",
       "      <td>3</td>\n",
       "      <td>-2.104849</td>\n",
       "      <td>55.209997</td>\n",
       "      <td>2014-03</td>\n",
       "    </tr>\n",
       "    <tr>\n",
       "      <th>5107</th>\n",
       "      <td>0.2000</td>\n",
       "      <td>Hydrocarbon Oils</td>\n",
       "      <td>GROUNDWATER</td>\n",
       "      <td>393426</td>\n",
       "      <td>590644</td>\n",
       "      <td>2014-03-13T08:43:00</td>\n",
       "      <td>BLAXTER COTTAGES SPRING SUPPLY FROM TAP</td>\n",
       "      <td>(-2.1048488681147792, 55.20999732573828)</td>\n",
       "      <td>2014</td>\n",
       "      <td>3</td>\n",
       "      <td>-2.104849</td>\n",
       "      <td>55.209997</td>\n",
       "      <td>2014-03</td>\n",
       "    </tr>\n",
       "    <tr>\n",
       "      <th>5108</th>\n",
       "      <td>0.2000</td>\n",
       "      <td>Hydrocarbon Oils</td>\n",
       "      <td>GROUNDWATER</td>\n",
       "      <td>393426</td>\n",
       "      <td>590644</td>\n",
       "      <td>2014-04-03T11:33:00</td>\n",
       "      <td>BLAXTER COTTAGES SPRING SUPPLY FROM TAP</td>\n",
       "      <td>(-2.1048488681147792, 55.20999732573828)</td>\n",
       "      <td>2014</td>\n",
       "      <td>4</td>\n",
       "      <td>-2.104849</td>\n",
       "      <td>55.209997</td>\n",
       "      <td>2014-04</td>\n",
       "    </tr>\n",
       "    <tr>\n",
       "      <th>5109</th>\n",
       "      <td>10.8000</td>\n",
       "      <td>Solids, Suspended at 105 C</td>\n",
       "      <td>GROUNDWATER</td>\n",
       "      <td>393426</td>\n",
       "      <td>590644</td>\n",
       "      <td>2014-04-03T11:33:00</td>\n",
       "      <td>BLAXTER COTTAGES SPRING SUPPLY FROM TAP</td>\n",
       "      <td>(-2.1048488681147792, 55.20999732573828)</td>\n",
       "      <td>2014</td>\n",
       "      <td>4</td>\n",
       "      <td>-2.104849</td>\n",
       "      <td>55.209997</td>\n",
       "      <td>2014-04</td>\n",
       "    </tr>\n",
       "  </tbody>\n",
       "</table>\n",
       "<p>25110 rows × 13 columns</p>\n",
       "</div>"
      ],
      "text/plain": [
       "       result                 Determinand                     Water Type  \\\n",
       "0      5.1200  Solids, Suspended at 105 C  RIVER / RUNNING SURFACE WATER   \n",
       "1      0.3800      Nitrogen, Organic as N  RIVER / RUNNING SURFACE WATER   \n",
       "2      0.0300    Ammoniacal Nitrogen as N  RIVER / RUNNING SURFACE WATER   \n",
       "3      0.0288          Phosphate :- {TIP}  RIVER / RUNNING SURFACE WATER   \n",
       "4     11.2000        Temperature of Water  RIVER / RUNNING SURFACE WATER   \n",
       "...       ...                         ...                            ...   \n",
       "5105   0.2000            Hydrocarbon Oils                    GROUNDWATER   \n",
       "5106   4.2300  Solids, Suspended at 105 C                    GROUNDWATER   \n",
       "5107   0.2000            Hydrocarbon Oils                    GROUNDWATER   \n",
       "5108   0.2000            Hydrocarbon Oils                    GROUNDWATER   \n",
       "5109  10.8000  Solids, Suspended at 105 C                    GROUNDWATER   \n",
       "\n",
       "      Easting  Northing        Date and Time  \\\n",
       "0      390002    642395  2015-05-19T09:30:00   \n",
       "1      390002    642395  2015-05-19T09:30:00   \n",
       "2      390002    642395  2015-05-19T09:30:00   \n",
       "3      390002    642395  2015-05-19T09:30:00   \n",
       "4      390002    642395  2015-05-19T09:30:00   \n",
       "...       ...       ...                  ...   \n",
       "5105   393426    590644  2014-02-04T11:14:00   \n",
       "5106   393426    590644  2014-03-13T08:43:00   \n",
       "5107   393426    590644  2014-03-13T08:43:00   \n",
       "5108   393426    590644  2014-04-03T11:33:00   \n",
       "5109   393426    590644  2014-04-03T11:33:00   \n",
       "\n",
       "                                     Location  \\\n",
       "0                          TILL @ HEATON MILL   \n",
       "1                          TILL @ HEATON MILL   \n",
       "2                          TILL @ HEATON MILL   \n",
       "3                          TILL @ HEATON MILL   \n",
       "4                          TILL @ HEATON MILL   \n",
       "...                                       ...   \n",
       "5105  BLAXTER COTTAGES SPRING SUPPLY FROM TAP   \n",
       "5106  BLAXTER COTTAGES SPRING SUPPLY FROM TAP   \n",
       "5107  BLAXTER COTTAGES SPRING SUPPLY FROM TAP   \n",
       "5108  BLAXTER COTTAGES SPRING SUPPLY FROM TAP   \n",
       "5109  BLAXTER COTTAGES SPRING SUPPLY FROM TAP   \n",
       "\n",
       "                                       LongLat  Year  Month  Longitude  \\\n",
       "0     (-2.160534365357642, 55.674945826365814)  2015      5  -2.160534   \n",
       "1     (-2.160534365357642, 55.674945826365814)  2015      5  -2.160534   \n",
       "2     (-2.160534365357642, 55.674945826365814)  2015      5  -2.160534   \n",
       "3     (-2.160534365357642, 55.674945826365814)  2015      5  -2.160534   \n",
       "4     (-2.160534365357642, 55.674945826365814)  2015      5  -2.160534   \n",
       "...                                        ...   ...    ...        ...   \n",
       "5105  (-2.1048488681147792, 55.20999732573828)  2014      2  -2.104849   \n",
       "5106  (-2.1048488681147792, 55.20999732573828)  2014      3  -2.104849   \n",
       "5107  (-2.1048488681147792, 55.20999732573828)  2014      3  -2.104849   \n",
       "5108  (-2.1048488681147792, 55.20999732573828)  2014      4  -2.104849   \n",
       "5109  (-2.1048488681147792, 55.20999732573828)  2014      4  -2.104849   \n",
       "\n",
       "       Latitude     Date  \n",
       "0     55.674946  2015-05  \n",
       "1     55.674946  2015-05  \n",
       "2     55.674946  2015-05  \n",
       "3     55.674946  2015-05  \n",
       "4     55.674946  2015-05  \n",
       "...         ...      ...  \n",
       "5105  55.209997  2014-02  \n",
       "5106  55.209997  2014-03  \n",
       "5107  55.209997  2014-03  \n",
       "5108  55.209997  2014-04  \n",
       "5109  55.209997  2014-04  \n",
       "\n",
       "[25110 rows x 13 columns]"
      ]
     },
     "execution_count": 6,
     "metadata": {},
     "output_type": "execute_result"
    }
   ],
   "source": [
    "#Extract year, month, latitude and longitude as variables that can be used in analysis and mapping\n",
    "\n",
    "result['Year'] = result[\"Date and Time\"].str[:4]\n",
    "result['Year'] = result['Year'].astype(int)\n",
    "result['Month'] = result[\"Date and Time\"].str[5:7]\n",
    "result['Month'] = result['Month'].astype(int)\n",
    "result['Longitude'] = (result['LongLat'].str[0])\n",
    "result['Latitude'] = result['LongLat'].str[1]\n",
    "result['Date'] = result ['Date and Time'].str[:7]\n",
    "result['Date'] = result['Date']\n",
    "\n",
    "\n",
    "result"
   ]
  },
  {
   "cell_type": "code",
   "execution_count": 28,
   "metadata": {},
   "outputs": [],
   "source": [
    "import dash_bootstrap_components"
   ]
  },
  {
   "cell_type": "code",
   "execution_count": 30,
   "metadata": {},
   "outputs": [
    {
     "name": "stdout",
     "output_type": "stream",
     "text": [
      "Collecting package metadata (current_repodata.json): ...working... done\n",
      "Solving environment: ...working... done\n",
      "\n",
      "# All requested packages already installed.\n",
      "\n",
      "Retrieving notices: ...working... done\n",
      "\n",
      "Note: you may need to restart the kernel to use updated packages.\n"
     ]
    }
   ],
   "source": [
    "conda install -c conda-forge dash-bootstrap-components"
   ]
  },
  {
   "cell_type": "code",
   "execution_count": null,
   "metadata": {},
   "outputs": [],
   "source": []
  },
  {
   "cell_type": "code",
   "execution_count": 80,
   "metadata": {},
   "outputs": [],
   "source": [
    "#export DataFrame to CSV file\n",
    "result.to_csv(r'C:\\Users\\Rajan\\documents/masters/app/coordinatedataset.csv')"
   ]
  },
  {
   "cell_type": "code",
   "execution_count": 7,
   "metadata": {},
   "outputs": [
    {
     "data": {
      "text/html": [
       "<div>\n",
       "<style scoped>\n",
       "    .dataframe tbody tr th:only-of-type {\n",
       "        vertical-align: middle;\n",
       "    }\n",
       "\n",
       "    .dataframe tbody tr th {\n",
       "        vertical-align: top;\n",
       "    }\n",
       "\n",
       "    .dataframe thead th {\n",
       "        text-align: right;\n",
       "    }\n",
       "</style>\n",
       "<table border=\"1\" class=\"dataframe\">\n",
       "  <thead>\n",
       "    <tr style=\"text-align: right;\">\n",
       "      <th></th>\n",
       "      <th></th>\n",
       "      <th></th>\n",
       "      <th></th>\n",
       "      <th></th>\n",
       "      <th></th>\n",
       "      <th>Determinand</th>\n",
       "      <th>1,1,1,2-Tetrachloroethane</th>\n",
       "      <th>1,1,1-Trichloroethane</th>\n",
       "      <th>1,1,2,2-Tetrachloroethane</th>\n",
       "      <th>1,1,2-Trichloroethane</th>\n",
       "      <th>1,1-Dichloroethane</th>\n",
       "      <th>1,1-Dichloroethylene :- {1,1-Dichloroethene}</th>\n",
       "      <th>1,2,3-Trichlorobenzene</th>\n",
       "      <th>1,2,4-Trichlorobenzene</th>\n",
       "      <th>1,2-Dichloroethane</th>\n",
       "      <th>1,2-Dimethylbenzene :- {o-Xylene}</th>\n",
       "      <th>...</th>\n",
       "      <th>cis-Chlordane</th>\n",
       "      <th>cis-Heptachlor epoxide</th>\n",
       "      <th>cis-Permethrin</th>\n",
       "      <th>pH</th>\n",
       "      <th>pH : In Situ</th>\n",
       "      <th>tert-Amyl methyl ether :- {TAME}</th>\n",
       "      <th>trans-1,2-Dichloroethylene :- {trans-1,2-Dichloroethene}</th>\n",
       "      <th>trans-Chlordane</th>\n",
       "      <th>trans-Heptachlor epoxide</th>\n",
       "      <th>trans-Permethrin</th>\n",
       "    </tr>\n",
       "    <tr>\n",
       "      <th>Water Type</th>\n",
       "      <th>Date</th>\n",
       "      <th>Year</th>\n",
       "      <th>Month</th>\n",
       "      <th>Location</th>\n",
       "      <th>Latitude</th>\n",
       "      <th>Longitude</th>\n",
       "      <th></th>\n",
       "      <th></th>\n",
       "      <th></th>\n",
       "      <th></th>\n",
       "      <th></th>\n",
       "      <th></th>\n",
       "      <th></th>\n",
       "      <th></th>\n",
       "      <th></th>\n",
       "      <th></th>\n",
       "      <th></th>\n",
       "      <th></th>\n",
       "      <th></th>\n",
       "      <th></th>\n",
       "      <th></th>\n",
       "      <th></th>\n",
       "      <th></th>\n",
       "      <th></th>\n",
       "      <th></th>\n",
       "      <th></th>\n",
       "      <th></th>\n",
       "    </tr>\n",
       "  </thead>\n",
       "  <tbody>\n",
       "    <tr>\n",
       "      <th rowspan=\"5\" valign=\"top\">GROUNDWATER</th>\n",
       "      <th>2004-03</th>\n",
       "      <th>2004</th>\n",
       "      <th>3</th>\n",
       "      <th>1/22/05/68 DOE HILL</th>\n",
       "      <th>55.221358</th>\n",
       "      <th>-1.808043</th>\n",
       "      <td>0.0</td>\n",
       "      <td>0.2</td>\n",
       "      <td>0.0</td>\n",
       "      <td>0.2</td>\n",
       "      <td>0.0</td>\n",
       "      <td>0.0</td>\n",
       "      <td>0.02</td>\n",
       "      <td>0.02</td>\n",
       "      <td>1.0</td>\n",
       "      <td>0.1</td>\n",
       "      <td>...</td>\n",
       "      <td>0.002</td>\n",
       "      <td>0.005</td>\n",
       "      <td>0.002</td>\n",
       "      <td>7.7</td>\n",
       "      <td>0.0</td>\n",
       "      <td>0.0</td>\n",
       "      <td>0.0</td>\n",
       "      <td>0.002</td>\n",
       "      <td>0.005</td>\n",
       "      <td>0.002</td>\n",
       "    </tr>\n",
       "    <tr>\n",
       "      <th>2007-10</th>\n",
       "      <th>2007</th>\n",
       "      <th>10</th>\n",
       "      <th>HURY FARM</th>\n",
       "      <th>54.579332</th>\n",
       "      <th>-2.060768</th>\n",
       "      <td>0.0</td>\n",
       "      <td>0.0</td>\n",
       "      <td>0.0</td>\n",
       "      <td>0.0</td>\n",
       "      <td>0.0</td>\n",
       "      <td>0.0</td>\n",
       "      <td>0.00</td>\n",
       "      <td>0.00</td>\n",
       "      <td>0.0</td>\n",
       "      <td>0.0</td>\n",
       "      <td>...</td>\n",
       "      <td>0.000</td>\n",
       "      <td>0.000</td>\n",
       "      <td>0.000</td>\n",
       "      <td>0.0</td>\n",
       "      <td>0.0</td>\n",
       "      <td>0.0</td>\n",
       "      <td>0.0</td>\n",
       "      <td>0.000</td>\n",
       "      <td>0.000</td>\n",
       "      <td>0.000</td>\n",
       "    </tr>\n",
       "    <tr>\n",
       "      <th>2009-01</th>\n",
       "      <th>2009</th>\n",
       "      <th>1</th>\n",
       "      <th>HURY FARM</th>\n",
       "      <th>54.579332</th>\n",
       "      <th>-2.060768</th>\n",
       "      <td>0.1</td>\n",
       "      <td>0.1</td>\n",
       "      <td>0.5</td>\n",
       "      <td>0.5</td>\n",
       "      <td>0.1</td>\n",
       "      <td>0.1</td>\n",
       "      <td>0.00</td>\n",
       "      <td>0.00</td>\n",
       "      <td>0.1</td>\n",
       "      <td>0.1</td>\n",
       "      <td>...</td>\n",
       "      <td>0.000</td>\n",
       "      <td>0.000</td>\n",
       "      <td>0.002</td>\n",
       "      <td>0.0</td>\n",
       "      <td>7.6</td>\n",
       "      <td>0.1</td>\n",
       "      <td>0.1</td>\n",
       "      <td>0.000</td>\n",
       "      <td>0.000</td>\n",
       "      <td>0.001</td>\n",
       "    </tr>\n",
       "    <tr>\n",
       "      <th>2009-02</th>\n",
       "      <th>2009</th>\n",
       "      <th>2</th>\n",
       "      <th>HURY FARM</th>\n",
       "      <th>54.579332</th>\n",
       "      <th>-2.060768</th>\n",
       "      <td>0.0</td>\n",
       "      <td>0.0</td>\n",
       "      <td>0.0</td>\n",
       "      <td>0.0</td>\n",
       "      <td>0.0</td>\n",
       "      <td>0.0</td>\n",
       "      <td>0.00</td>\n",
       "      <td>0.00</td>\n",
       "      <td>0.0</td>\n",
       "      <td>0.0</td>\n",
       "      <td>...</td>\n",
       "      <td>0.000</td>\n",
       "      <td>0.000</td>\n",
       "      <td>0.000</td>\n",
       "      <td>0.0</td>\n",
       "      <td>7.5</td>\n",
       "      <td>0.0</td>\n",
       "      <td>0.0</td>\n",
       "      <td>0.000</td>\n",
       "      <td>0.000</td>\n",
       "      <td>0.000</td>\n",
       "    </tr>\n",
       "    <tr>\n",
       "      <th>2009-11</th>\n",
       "      <th>2009</th>\n",
       "      <th>11</th>\n",
       "      <th>HURY FARM</th>\n",
       "      <th>54.579332</th>\n",
       "      <th>-2.060768</th>\n",
       "      <td>0.1</td>\n",
       "      <td>0.1</td>\n",
       "      <td>0.5</td>\n",
       "      <td>0.5</td>\n",
       "      <td>0.1</td>\n",
       "      <td>0.1</td>\n",
       "      <td>0.01</td>\n",
       "      <td>0.01</td>\n",
       "      <td>0.1</td>\n",
       "      <td>0.1</td>\n",
       "      <td>...</td>\n",
       "      <td>0.001</td>\n",
       "      <td>0.003</td>\n",
       "      <td>0.002</td>\n",
       "      <td>0.0</td>\n",
       "      <td>6.4</td>\n",
       "      <td>0.1</td>\n",
       "      <td>0.1</td>\n",
       "      <td>0.001</td>\n",
       "      <td>0.003</td>\n",
       "      <td>0.001</td>\n",
       "    </tr>\n",
       "    <tr>\n",
       "      <th>...</th>\n",
       "      <th>...</th>\n",
       "      <th>...</th>\n",
       "      <th>...</th>\n",
       "      <th>...</th>\n",
       "      <th>...</th>\n",
       "      <th>...</th>\n",
       "      <td>...</td>\n",
       "      <td>...</td>\n",
       "      <td>...</td>\n",
       "      <td>...</td>\n",
       "      <td>...</td>\n",
       "      <td>...</td>\n",
       "      <td>...</td>\n",
       "      <td>...</td>\n",
       "      <td>...</td>\n",
       "      <td>...</td>\n",
       "      <td>...</td>\n",
       "      <td>...</td>\n",
       "      <td>...</td>\n",
       "      <td>...</td>\n",
       "      <td>...</td>\n",
       "      <td>...</td>\n",
       "      <td>...</td>\n",
       "      <td>...</td>\n",
       "      <td>...</td>\n",
       "      <td>...</td>\n",
       "      <td>...</td>\n",
       "    </tr>\n",
       "    <tr>\n",
       "      <th rowspan=\"5\" valign=\"top\">RIVER / RUNNING SURFACE WATER</th>\n",
       "      <th>2022-04</th>\n",
       "      <th>2022</th>\n",
       "      <th>4</th>\n",
       "      <th>TILL @ HEATON MILL</th>\n",
       "      <th>55.674946</th>\n",
       "      <th>-2.160534</th>\n",
       "      <td>0.0</td>\n",
       "      <td>0.0</td>\n",
       "      <td>0.0</td>\n",
       "      <td>0.0</td>\n",
       "      <td>0.0</td>\n",
       "      <td>0.0</td>\n",
       "      <td>0.00</td>\n",
       "      <td>0.00</td>\n",
       "      <td>0.0</td>\n",
       "      <td>0.0</td>\n",
       "      <td>...</td>\n",
       "      <td>0.000</td>\n",
       "      <td>0.000</td>\n",
       "      <td>0.000</td>\n",
       "      <td>0.0</td>\n",
       "      <td>0.0</td>\n",
       "      <td>0.0</td>\n",
       "      <td>0.0</td>\n",
       "      <td>0.000</td>\n",
       "      <td>0.000</td>\n",
       "      <td>0.000</td>\n",
       "    </tr>\n",
       "    <tr>\n",
       "      <th>2022-05</th>\n",
       "      <th>2022</th>\n",
       "      <th>5</th>\n",
       "      <th>TILL @ HEATON MILL</th>\n",
       "      <th>55.674946</th>\n",
       "      <th>-2.160534</th>\n",
       "      <td>0.0</td>\n",
       "      <td>0.0</td>\n",
       "      <td>0.0</td>\n",
       "      <td>0.0</td>\n",
       "      <td>0.0</td>\n",
       "      <td>0.0</td>\n",
       "      <td>0.00</td>\n",
       "      <td>0.00</td>\n",
       "      <td>0.0</td>\n",
       "      <td>0.0</td>\n",
       "      <td>...</td>\n",
       "      <td>0.000</td>\n",
       "      <td>0.000</td>\n",
       "      <td>0.000</td>\n",
       "      <td>0.0</td>\n",
       "      <td>0.0</td>\n",
       "      <td>0.0</td>\n",
       "      <td>0.0</td>\n",
       "      <td>0.000</td>\n",
       "      <td>0.000</td>\n",
       "      <td>0.000</td>\n",
       "    </tr>\n",
       "    <tr>\n",
       "      <th>2022-06</th>\n",
       "      <th>2022</th>\n",
       "      <th>6</th>\n",
       "      <th>TILL @ HEATON MILL</th>\n",
       "      <th>55.674946</th>\n",
       "      <th>-2.160534</th>\n",
       "      <td>0.0</td>\n",
       "      <td>0.0</td>\n",
       "      <td>0.0</td>\n",
       "      <td>0.0</td>\n",
       "      <td>0.0</td>\n",
       "      <td>0.0</td>\n",
       "      <td>0.00</td>\n",
       "      <td>0.00</td>\n",
       "      <td>0.0</td>\n",
       "      <td>0.0</td>\n",
       "      <td>...</td>\n",
       "      <td>0.000</td>\n",
       "      <td>0.000</td>\n",
       "      <td>0.000</td>\n",
       "      <td>0.0</td>\n",
       "      <td>0.0</td>\n",
       "      <td>0.0</td>\n",
       "      <td>0.0</td>\n",
       "      <td>0.000</td>\n",
       "      <td>0.000</td>\n",
       "      <td>0.000</td>\n",
       "    </tr>\n",
       "    <tr>\n",
       "      <th>2022-07</th>\n",
       "      <th>2022</th>\n",
       "      <th>7</th>\n",
       "      <th>TILL @ HEATON MILL</th>\n",
       "      <th>55.674946</th>\n",
       "      <th>-2.160534</th>\n",
       "      <td>0.0</td>\n",
       "      <td>0.0</td>\n",
       "      <td>0.0</td>\n",
       "      <td>0.0</td>\n",
       "      <td>0.0</td>\n",
       "      <td>0.0</td>\n",
       "      <td>0.00</td>\n",
       "      <td>0.00</td>\n",
       "      <td>0.0</td>\n",
       "      <td>0.0</td>\n",
       "      <td>...</td>\n",
       "      <td>0.000</td>\n",
       "      <td>0.000</td>\n",
       "      <td>0.000</td>\n",
       "      <td>0.0</td>\n",
       "      <td>0.0</td>\n",
       "      <td>0.0</td>\n",
       "      <td>0.0</td>\n",
       "      <td>0.000</td>\n",
       "      <td>0.000</td>\n",
       "      <td>0.000</td>\n",
       "    </tr>\n",
       "    <tr>\n",
       "      <th>2022-08</th>\n",
       "      <th>2022</th>\n",
       "      <th>8</th>\n",
       "      <th>TILL @ HEATON MILL</th>\n",
       "      <th>55.674946</th>\n",
       "      <th>-2.160534</th>\n",
       "      <td>0.0</td>\n",
       "      <td>0.0</td>\n",
       "      <td>0.0</td>\n",
       "      <td>0.0</td>\n",
       "      <td>0.0</td>\n",
       "      <td>0.0</td>\n",
       "      <td>0.00</td>\n",
       "      <td>0.00</td>\n",
       "      <td>0.0</td>\n",
       "      <td>0.0</td>\n",
       "      <td>...</td>\n",
       "      <td>0.000</td>\n",
       "      <td>0.000</td>\n",
       "      <td>0.000</td>\n",
       "      <td>0.0</td>\n",
       "      <td>0.0</td>\n",
       "      <td>0.0</td>\n",
       "      <td>0.0</td>\n",
       "      <td>0.000</td>\n",
       "      <td>0.000</td>\n",
       "      <td>0.000</td>\n",
       "    </tr>\n",
       "  </tbody>\n",
       "</table>\n",
       "<p>689 rows × 344 columns</p>\n",
       "</div>"
      ],
      "text/plain": [
       "Determinand                                                                               1,1,1,2-Tetrachloroethane  \\\n",
       "Water Type                    Date    Year Month Location            Latitude  Longitude                              \n",
       "GROUNDWATER                   2004-03 2004 3     1/22/05/68 DOE HILL 55.221358 -1.808043                        0.0   \n",
       "                              2007-10 2007 10    HURY FARM           54.579332 -2.060768                        0.0   \n",
       "                              2009-01 2009 1     HURY FARM           54.579332 -2.060768                        0.1   \n",
       "                              2009-02 2009 2     HURY FARM           54.579332 -2.060768                        0.0   \n",
       "                              2009-11 2009 11    HURY FARM           54.579332 -2.060768                        0.1   \n",
       "...                                                                                                             ...   \n",
       "RIVER / RUNNING SURFACE WATER 2022-04 2022 4     TILL @ HEATON MILL  55.674946 -2.160534                        0.0   \n",
       "                              2022-05 2022 5     TILL @ HEATON MILL  55.674946 -2.160534                        0.0   \n",
       "                              2022-06 2022 6     TILL @ HEATON MILL  55.674946 -2.160534                        0.0   \n",
       "                              2022-07 2022 7     TILL @ HEATON MILL  55.674946 -2.160534                        0.0   \n",
       "                              2022-08 2022 8     TILL @ HEATON MILL  55.674946 -2.160534                        0.0   \n",
       "\n",
       "Determinand                                                                               1,1,1-Trichloroethane  \\\n",
       "Water Type                    Date    Year Month Location            Latitude  Longitude                          \n",
       "GROUNDWATER                   2004-03 2004 3     1/22/05/68 DOE HILL 55.221358 -1.808043                    0.2   \n",
       "                              2007-10 2007 10    HURY FARM           54.579332 -2.060768                    0.0   \n",
       "                              2009-01 2009 1     HURY FARM           54.579332 -2.060768                    0.1   \n",
       "                              2009-02 2009 2     HURY FARM           54.579332 -2.060768                    0.0   \n",
       "                              2009-11 2009 11    HURY FARM           54.579332 -2.060768                    0.1   \n",
       "...                                                                                                         ...   \n",
       "RIVER / RUNNING SURFACE WATER 2022-04 2022 4     TILL @ HEATON MILL  55.674946 -2.160534                    0.0   \n",
       "                              2022-05 2022 5     TILL @ HEATON MILL  55.674946 -2.160534                    0.0   \n",
       "                              2022-06 2022 6     TILL @ HEATON MILL  55.674946 -2.160534                    0.0   \n",
       "                              2022-07 2022 7     TILL @ HEATON MILL  55.674946 -2.160534                    0.0   \n",
       "                              2022-08 2022 8     TILL @ HEATON MILL  55.674946 -2.160534                    0.0   \n",
       "\n",
       "Determinand                                                                               1,1,2,2-Tetrachloroethane  \\\n",
       "Water Type                    Date    Year Month Location            Latitude  Longitude                              \n",
       "GROUNDWATER                   2004-03 2004 3     1/22/05/68 DOE HILL 55.221358 -1.808043                        0.0   \n",
       "                              2007-10 2007 10    HURY FARM           54.579332 -2.060768                        0.0   \n",
       "                              2009-01 2009 1     HURY FARM           54.579332 -2.060768                        0.5   \n",
       "                              2009-02 2009 2     HURY FARM           54.579332 -2.060768                        0.0   \n",
       "                              2009-11 2009 11    HURY FARM           54.579332 -2.060768                        0.5   \n",
       "...                                                                                                             ...   \n",
       "RIVER / RUNNING SURFACE WATER 2022-04 2022 4     TILL @ HEATON MILL  55.674946 -2.160534                        0.0   \n",
       "                              2022-05 2022 5     TILL @ HEATON MILL  55.674946 -2.160534                        0.0   \n",
       "                              2022-06 2022 6     TILL @ HEATON MILL  55.674946 -2.160534                        0.0   \n",
       "                              2022-07 2022 7     TILL @ HEATON MILL  55.674946 -2.160534                        0.0   \n",
       "                              2022-08 2022 8     TILL @ HEATON MILL  55.674946 -2.160534                        0.0   \n",
       "\n",
       "Determinand                                                                               1,1,2-Trichloroethane  \\\n",
       "Water Type                    Date    Year Month Location            Latitude  Longitude                          \n",
       "GROUNDWATER                   2004-03 2004 3     1/22/05/68 DOE HILL 55.221358 -1.808043                    0.2   \n",
       "                              2007-10 2007 10    HURY FARM           54.579332 -2.060768                    0.0   \n",
       "                              2009-01 2009 1     HURY FARM           54.579332 -2.060768                    0.5   \n",
       "                              2009-02 2009 2     HURY FARM           54.579332 -2.060768                    0.0   \n",
       "                              2009-11 2009 11    HURY FARM           54.579332 -2.060768                    0.5   \n",
       "...                                                                                                         ...   \n",
       "RIVER / RUNNING SURFACE WATER 2022-04 2022 4     TILL @ HEATON MILL  55.674946 -2.160534                    0.0   \n",
       "                              2022-05 2022 5     TILL @ HEATON MILL  55.674946 -2.160534                    0.0   \n",
       "                              2022-06 2022 6     TILL @ HEATON MILL  55.674946 -2.160534                    0.0   \n",
       "                              2022-07 2022 7     TILL @ HEATON MILL  55.674946 -2.160534                    0.0   \n",
       "                              2022-08 2022 8     TILL @ HEATON MILL  55.674946 -2.160534                    0.0   \n",
       "\n",
       "Determinand                                                                               1,1-Dichloroethane  \\\n",
       "Water Type                    Date    Year Month Location            Latitude  Longitude                       \n",
       "GROUNDWATER                   2004-03 2004 3     1/22/05/68 DOE HILL 55.221358 -1.808043                 0.0   \n",
       "                              2007-10 2007 10    HURY FARM           54.579332 -2.060768                 0.0   \n",
       "                              2009-01 2009 1     HURY FARM           54.579332 -2.060768                 0.1   \n",
       "                              2009-02 2009 2     HURY FARM           54.579332 -2.060768                 0.0   \n",
       "                              2009-11 2009 11    HURY FARM           54.579332 -2.060768                 0.1   \n",
       "...                                                                                                      ...   \n",
       "RIVER / RUNNING SURFACE WATER 2022-04 2022 4     TILL @ HEATON MILL  55.674946 -2.160534                 0.0   \n",
       "                              2022-05 2022 5     TILL @ HEATON MILL  55.674946 -2.160534                 0.0   \n",
       "                              2022-06 2022 6     TILL @ HEATON MILL  55.674946 -2.160534                 0.0   \n",
       "                              2022-07 2022 7     TILL @ HEATON MILL  55.674946 -2.160534                 0.0   \n",
       "                              2022-08 2022 8     TILL @ HEATON MILL  55.674946 -2.160534                 0.0   \n",
       "\n",
       "Determinand                                                                               1,1-Dichloroethylene :- {1,1-Dichloroethene}  \\\n",
       "Water Type                    Date    Year Month Location            Latitude  Longitude                                                 \n",
       "GROUNDWATER                   2004-03 2004 3     1/22/05/68 DOE HILL 55.221358 -1.808043                                           0.0   \n",
       "                              2007-10 2007 10    HURY FARM           54.579332 -2.060768                                           0.0   \n",
       "                              2009-01 2009 1     HURY FARM           54.579332 -2.060768                                           0.1   \n",
       "                              2009-02 2009 2     HURY FARM           54.579332 -2.060768                                           0.0   \n",
       "                              2009-11 2009 11    HURY FARM           54.579332 -2.060768                                           0.1   \n",
       "...                                                                                                                                ...   \n",
       "RIVER / RUNNING SURFACE WATER 2022-04 2022 4     TILL @ HEATON MILL  55.674946 -2.160534                                           0.0   \n",
       "                              2022-05 2022 5     TILL @ HEATON MILL  55.674946 -2.160534                                           0.0   \n",
       "                              2022-06 2022 6     TILL @ HEATON MILL  55.674946 -2.160534                                           0.0   \n",
       "                              2022-07 2022 7     TILL @ HEATON MILL  55.674946 -2.160534                                           0.0   \n",
       "                              2022-08 2022 8     TILL @ HEATON MILL  55.674946 -2.160534                                           0.0   \n",
       "\n",
       "Determinand                                                                               1,2,3-Trichlorobenzene  \\\n",
       "Water Type                    Date    Year Month Location            Latitude  Longitude                           \n",
       "GROUNDWATER                   2004-03 2004 3     1/22/05/68 DOE HILL 55.221358 -1.808043                    0.02   \n",
       "                              2007-10 2007 10    HURY FARM           54.579332 -2.060768                    0.00   \n",
       "                              2009-01 2009 1     HURY FARM           54.579332 -2.060768                    0.00   \n",
       "                              2009-02 2009 2     HURY FARM           54.579332 -2.060768                    0.00   \n",
       "                              2009-11 2009 11    HURY FARM           54.579332 -2.060768                    0.01   \n",
       "...                                                                                                          ...   \n",
       "RIVER / RUNNING SURFACE WATER 2022-04 2022 4     TILL @ HEATON MILL  55.674946 -2.160534                    0.00   \n",
       "                              2022-05 2022 5     TILL @ HEATON MILL  55.674946 -2.160534                    0.00   \n",
       "                              2022-06 2022 6     TILL @ HEATON MILL  55.674946 -2.160534                    0.00   \n",
       "                              2022-07 2022 7     TILL @ HEATON MILL  55.674946 -2.160534                    0.00   \n",
       "                              2022-08 2022 8     TILL @ HEATON MILL  55.674946 -2.160534                    0.00   \n",
       "\n",
       "Determinand                                                                               1,2,4-Trichlorobenzene  \\\n",
       "Water Type                    Date    Year Month Location            Latitude  Longitude                           \n",
       "GROUNDWATER                   2004-03 2004 3     1/22/05/68 DOE HILL 55.221358 -1.808043                    0.02   \n",
       "                              2007-10 2007 10    HURY FARM           54.579332 -2.060768                    0.00   \n",
       "                              2009-01 2009 1     HURY FARM           54.579332 -2.060768                    0.00   \n",
       "                              2009-02 2009 2     HURY FARM           54.579332 -2.060768                    0.00   \n",
       "                              2009-11 2009 11    HURY FARM           54.579332 -2.060768                    0.01   \n",
       "...                                                                                                          ...   \n",
       "RIVER / RUNNING SURFACE WATER 2022-04 2022 4     TILL @ HEATON MILL  55.674946 -2.160534                    0.00   \n",
       "                              2022-05 2022 5     TILL @ HEATON MILL  55.674946 -2.160534                    0.00   \n",
       "                              2022-06 2022 6     TILL @ HEATON MILL  55.674946 -2.160534                    0.00   \n",
       "                              2022-07 2022 7     TILL @ HEATON MILL  55.674946 -2.160534                    0.00   \n",
       "                              2022-08 2022 8     TILL @ HEATON MILL  55.674946 -2.160534                    0.00   \n",
       "\n",
       "Determinand                                                                               1,2-Dichloroethane  \\\n",
       "Water Type                    Date    Year Month Location            Latitude  Longitude                       \n",
       "GROUNDWATER                   2004-03 2004 3     1/22/05/68 DOE HILL 55.221358 -1.808043                 1.0   \n",
       "                              2007-10 2007 10    HURY FARM           54.579332 -2.060768                 0.0   \n",
       "                              2009-01 2009 1     HURY FARM           54.579332 -2.060768                 0.1   \n",
       "                              2009-02 2009 2     HURY FARM           54.579332 -2.060768                 0.0   \n",
       "                              2009-11 2009 11    HURY FARM           54.579332 -2.060768                 0.1   \n",
       "...                                                                                                      ...   \n",
       "RIVER / RUNNING SURFACE WATER 2022-04 2022 4     TILL @ HEATON MILL  55.674946 -2.160534                 0.0   \n",
       "                              2022-05 2022 5     TILL @ HEATON MILL  55.674946 -2.160534                 0.0   \n",
       "                              2022-06 2022 6     TILL @ HEATON MILL  55.674946 -2.160534                 0.0   \n",
       "                              2022-07 2022 7     TILL @ HEATON MILL  55.674946 -2.160534                 0.0   \n",
       "                              2022-08 2022 8     TILL @ HEATON MILL  55.674946 -2.160534                 0.0   \n",
       "\n",
       "Determinand                                                                               1,2-Dimethylbenzene :- {o-Xylene}  \\\n",
       "Water Type                    Date    Year Month Location            Latitude  Longitude                                      \n",
       "GROUNDWATER                   2004-03 2004 3     1/22/05/68 DOE HILL 55.221358 -1.808043                                0.1   \n",
       "                              2007-10 2007 10    HURY FARM           54.579332 -2.060768                                0.0   \n",
       "                              2009-01 2009 1     HURY FARM           54.579332 -2.060768                                0.1   \n",
       "                              2009-02 2009 2     HURY FARM           54.579332 -2.060768                                0.0   \n",
       "                              2009-11 2009 11    HURY FARM           54.579332 -2.060768                                0.1   \n",
       "...                                                                                                                     ...   \n",
       "RIVER / RUNNING SURFACE WATER 2022-04 2022 4     TILL @ HEATON MILL  55.674946 -2.160534                                0.0   \n",
       "                              2022-05 2022 5     TILL @ HEATON MILL  55.674946 -2.160534                                0.0   \n",
       "                              2022-06 2022 6     TILL @ HEATON MILL  55.674946 -2.160534                                0.0   \n",
       "                              2022-07 2022 7     TILL @ HEATON MILL  55.674946 -2.160534                                0.0   \n",
       "                              2022-08 2022 8     TILL @ HEATON MILL  55.674946 -2.160534                                0.0   \n",
       "\n",
       "Determinand                                                                               ...  \\\n",
       "Water Type                    Date    Year Month Location            Latitude  Longitude  ...   \n",
       "GROUNDWATER                   2004-03 2004 3     1/22/05/68 DOE HILL 55.221358 -1.808043  ...   \n",
       "                              2007-10 2007 10    HURY FARM           54.579332 -2.060768  ...   \n",
       "                              2009-01 2009 1     HURY FARM           54.579332 -2.060768  ...   \n",
       "                              2009-02 2009 2     HURY FARM           54.579332 -2.060768  ...   \n",
       "                              2009-11 2009 11    HURY FARM           54.579332 -2.060768  ...   \n",
       "...                                                                                       ...   \n",
       "RIVER / RUNNING SURFACE WATER 2022-04 2022 4     TILL @ HEATON MILL  55.674946 -2.160534  ...   \n",
       "                              2022-05 2022 5     TILL @ HEATON MILL  55.674946 -2.160534  ...   \n",
       "                              2022-06 2022 6     TILL @ HEATON MILL  55.674946 -2.160534  ...   \n",
       "                              2022-07 2022 7     TILL @ HEATON MILL  55.674946 -2.160534  ...   \n",
       "                              2022-08 2022 8     TILL @ HEATON MILL  55.674946 -2.160534  ...   \n",
       "\n",
       "Determinand                                                                               cis-Chlordane  \\\n",
       "Water Type                    Date    Year Month Location            Latitude  Longitude                  \n",
       "GROUNDWATER                   2004-03 2004 3     1/22/05/68 DOE HILL 55.221358 -1.808043          0.002   \n",
       "                              2007-10 2007 10    HURY FARM           54.579332 -2.060768          0.000   \n",
       "                              2009-01 2009 1     HURY FARM           54.579332 -2.060768          0.000   \n",
       "                              2009-02 2009 2     HURY FARM           54.579332 -2.060768          0.000   \n",
       "                              2009-11 2009 11    HURY FARM           54.579332 -2.060768          0.001   \n",
       "...                                                                                                 ...   \n",
       "RIVER / RUNNING SURFACE WATER 2022-04 2022 4     TILL @ HEATON MILL  55.674946 -2.160534          0.000   \n",
       "                              2022-05 2022 5     TILL @ HEATON MILL  55.674946 -2.160534          0.000   \n",
       "                              2022-06 2022 6     TILL @ HEATON MILL  55.674946 -2.160534          0.000   \n",
       "                              2022-07 2022 7     TILL @ HEATON MILL  55.674946 -2.160534          0.000   \n",
       "                              2022-08 2022 8     TILL @ HEATON MILL  55.674946 -2.160534          0.000   \n",
       "\n",
       "Determinand                                                                               cis-Heptachlor epoxide  \\\n",
       "Water Type                    Date    Year Month Location            Latitude  Longitude                           \n",
       "GROUNDWATER                   2004-03 2004 3     1/22/05/68 DOE HILL 55.221358 -1.808043                   0.005   \n",
       "                              2007-10 2007 10    HURY FARM           54.579332 -2.060768                   0.000   \n",
       "                              2009-01 2009 1     HURY FARM           54.579332 -2.060768                   0.000   \n",
       "                              2009-02 2009 2     HURY FARM           54.579332 -2.060768                   0.000   \n",
       "                              2009-11 2009 11    HURY FARM           54.579332 -2.060768                   0.003   \n",
       "...                                                                                                          ...   \n",
       "RIVER / RUNNING SURFACE WATER 2022-04 2022 4     TILL @ HEATON MILL  55.674946 -2.160534                   0.000   \n",
       "                              2022-05 2022 5     TILL @ HEATON MILL  55.674946 -2.160534                   0.000   \n",
       "                              2022-06 2022 6     TILL @ HEATON MILL  55.674946 -2.160534                   0.000   \n",
       "                              2022-07 2022 7     TILL @ HEATON MILL  55.674946 -2.160534                   0.000   \n",
       "                              2022-08 2022 8     TILL @ HEATON MILL  55.674946 -2.160534                   0.000   \n",
       "\n",
       "Determinand                                                                               cis-Permethrin  \\\n",
       "Water Type                    Date    Year Month Location            Latitude  Longitude                   \n",
       "GROUNDWATER                   2004-03 2004 3     1/22/05/68 DOE HILL 55.221358 -1.808043           0.002   \n",
       "                              2007-10 2007 10    HURY FARM           54.579332 -2.060768           0.000   \n",
       "                              2009-01 2009 1     HURY FARM           54.579332 -2.060768           0.002   \n",
       "                              2009-02 2009 2     HURY FARM           54.579332 -2.060768           0.000   \n",
       "                              2009-11 2009 11    HURY FARM           54.579332 -2.060768           0.002   \n",
       "...                                                                                                  ...   \n",
       "RIVER / RUNNING SURFACE WATER 2022-04 2022 4     TILL @ HEATON MILL  55.674946 -2.160534           0.000   \n",
       "                              2022-05 2022 5     TILL @ HEATON MILL  55.674946 -2.160534           0.000   \n",
       "                              2022-06 2022 6     TILL @ HEATON MILL  55.674946 -2.160534           0.000   \n",
       "                              2022-07 2022 7     TILL @ HEATON MILL  55.674946 -2.160534           0.000   \n",
       "                              2022-08 2022 8     TILL @ HEATON MILL  55.674946 -2.160534           0.000   \n",
       "\n",
       "Determinand                                                                                pH  \\\n",
       "Water Type                    Date    Year Month Location            Latitude  Longitude        \n",
       "GROUNDWATER                   2004-03 2004 3     1/22/05/68 DOE HILL 55.221358 -1.808043  7.7   \n",
       "                              2007-10 2007 10    HURY FARM           54.579332 -2.060768  0.0   \n",
       "                              2009-01 2009 1     HURY FARM           54.579332 -2.060768  0.0   \n",
       "                              2009-02 2009 2     HURY FARM           54.579332 -2.060768  0.0   \n",
       "                              2009-11 2009 11    HURY FARM           54.579332 -2.060768  0.0   \n",
       "...                                                                                       ...   \n",
       "RIVER / RUNNING SURFACE WATER 2022-04 2022 4     TILL @ HEATON MILL  55.674946 -2.160534  0.0   \n",
       "                              2022-05 2022 5     TILL @ HEATON MILL  55.674946 -2.160534  0.0   \n",
       "                              2022-06 2022 6     TILL @ HEATON MILL  55.674946 -2.160534  0.0   \n",
       "                              2022-07 2022 7     TILL @ HEATON MILL  55.674946 -2.160534  0.0   \n",
       "                              2022-08 2022 8     TILL @ HEATON MILL  55.674946 -2.160534  0.0   \n",
       "\n",
       "Determinand                                                                               pH : In Situ  \\\n",
       "Water Type                    Date    Year Month Location            Latitude  Longitude                 \n",
       "GROUNDWATER                   2004-03 2004 3     1/22/05/68 DOE HILL 55.221358 -1.808043           0.0   \n",
       "                              2007-10 2007 10    HURY FARM           54.579332 -2.060768           0.0   \n",
       "                              2009-01 2009 1     HURY FARM           54.579332 -2.060768           7.6   \n",
       "                              2009-02 2009 2     HURY FARM           54.579332 -2.060768           7.5   \n",
       "                              2009-11 2009 11    HURY FARM           54.579332 -2.060768           6.4   \n",
       "...                                                                                                ...   \n",
       "RIVER / RUNNING SURFACE WATER 2022-04 2022 4     TILL @ HEATON MILL  55.674946 -2.160534           0.0   \n",
       "                              2022-05 2022 5     TILL @ HEATON MILL  55.674946 -2.160534           0.0   \n",
       "                              2022-06 2022 6     TILL @ HEATON MILL  55.674946 -2.160534           0.0   \n",
       "                              2022-07 2022 7     TILL @ HEATON MILL  55.674946 -2.160534           0.0   \n",
       "                              2022-08 2022 8     TILL @ HEATON MILL  55.674946 -2.160534           0.0   \n",
       "\n",
       "Determinand                                                                               tert-Amyl methyl ether :- {TAME}  \\\n",
       "Water Type                    Date    Year Month Location            Latitude  Longitude                                     \n",
       "GROUNDWATER                   2004-03 2004 3     1/22/05/68 DOE HILL 55.221358 -1.808043                               0.0   \n",
       "                              2007-10 2007 10    HURY FARM           54.579332 -2.060768                               0.0   \n",
       "                              2009-01 2009 1     HURY FARM           54.579332 -2.060768                               0.1   \n",
       "                              2009-02 2009 2     HURY FARM           54.579332 -2.060768                               0.0   \n",
       "                              2009-11 2009 11    HURY FARM           54.579332 -2.060768                               0.1   \n",
       "...                                                                                                                    ...   \n",
       "RIVER / RUNNING SURFACE WATER 2022-04 2022 4     TILL @ HEATON MILL  55.674946 -2.160534                               0.0   \n",
       "                              2022-05 2022 5     TILL @ HEATON MILL  55.674946 -2.160534                               0.0   \n",
       "                              2022-06 2022 6     TILL @ HEATON MILL  55.674946 -2.160534                               0.0   \n",
       "                              2022-07 2022 7     TILL @ HEATON MILL  55.674946 -2.160534                               0.0   \n",
       "                              2022-08 2022 8     TILL @ HEATON MILL  55.674946 -2.160534                               0.0   \n",
       "\n",
       "Determinand                                                                               trans-1,2-Dichloroethylene :- {trans-1,2-Dichloroethene}  \\\n",
       "Water Type                    Date    Year Month Location            Latitude  Longitude                                                             \n",
       "GROUNDWATER                   2004-03 2004 3     1/22/05/68 DOE HILL 55.221358 -1.808043                                                0.0          \n",
       "                              2007-10 2007 10    HURY FARM           54.579332 -2.060768                                                0.0          \n",
       "                              2009-01 2009 1     HURY FARM           54.579332 -2.060768                                                0.1          \n",
       "                              2009-02 2009 2     HURY FARM           54.579332 -2.060768                                                0.0          \n",
       "                              2009-11 2009 11    HURY FARM           54.579332 -2.060768                                                0.1          \n",
       "...                                                                                                                                     ...          \n",
       "RIVER / RUNNING SURFACE WATER 2022-04 2022 4     TILL @ HEATON MILL  55.674946 -2.160534                                                0.0          \n",
       "                              2022-05 2022 5     TILL @ HEATON MILL  55.674946 -2.160534                                                0.0          \n",
       "                              2022-06 2022 6     TILL @ HEATON MILL  55.674946 -2.160534                                                0.0          \n",
       "                              2022-07 2022 7     TILL @ HEATON MILL  55.674946 -2.160534                                                0.0          \n",
       "                              2022-08 2022 8     TILL @ HEATON MILL  55.674946 -2.160534                                                0.0          \n",
       "\n",
       "Determinand                                                                               trans-Chlordane  \\\n",
       "Water Type                    Date    Year Month Location            Latitude  Longitude                    \n",
       "GROUNDWATER                   2004-03 2004 3     1/22/05/68 DOE HILL 55.221358 -1.808043            0.002   \n",
       "                              2007-10 2007 10    HURY FARM           54.579332 -2.060768            0.000   \n",
       "                              2009-01 2009 1     HURY FARM           54.579332 -2.060768            0.000   \n",
       "                              2009-02 2009 2     HURY FARM           54.579332 -2.060768            0.000   \n",
       "                              2009-11 2009 11    HURY FARM           54.579332 -2.060768            0.001   \n",
       "...                                                                                                   ...   \n",
       "RIVER / RUNNING SURFACE WATER 2022-04 2022 4     TILL @ HEATON MILL  55.674946 -2.160534            0.000   \n",
       "                              2022-05 2022 5     TILL @ HEATON MILL  55.674946 -2.160534            0.000   \n",
       "                              2022-06 2022 6     TILL @ HEATON MILL  55.674946 -2.160534            0.000   \n",
       "                              2022-07 2022 7     TILL @ HEATON MILL  55.674946 -2.160534            0.000   \n",
       "                              2022-08 2022 8     TILL @ HEATON MILL  55.674946 -2.160534            0.000   \n",
       "\n",
       "Determinand                                                                               trans-Heptachlor epoxide  \\\n",
       "Water Type                    Date    Year Month Location            Latitude  Longitude                             \n",
       "GROUNDWATER                   2004-03 2004 3     1/22/05/68 DOE HILL 55.221358 -1.808043                     0.005   \n",
       "                              2007-10 2007 10    HURY FARM           54.579332 -2.060768                     0.000   \n",
       "                              2009-01 2009 1     HURY FARM           54.579332 -2.060768                     0.000   \n",
       "                              2009-02 2009 2     HURY FARM           54.579332 -2.060768                     0.000   \n",
       "                              2009-11 2009 11    HURY FARM           54.579332 -2.060768                     0.003   \n",
       "...                                                                                                            ...   \n",
       "RIVER / RUNNING SURFACE WATER 2022-04 2022 4     TILL @ HEATON MILL  55.674946 -2.160534                     0.000   \n",
       "                              2022-05 2022 5     TILL @ HEATON MILL  55.674946 -2.160534                     0.000   \n",
       "                              2022-06 2022 6     TILL @ HEATON MILL  55.674946 -2.160534                     0.000   \n",
       "                              2022-07 2022 7     TILL @ HEATON MILL  55.674946 -2.160534                     0.000   \n",
       "                              2022-08 2022 8     TILL @ HEATON MILL  55.674946 -2.160534                     0.000   \n",
       "\n",
       "Determinand                                                                               trans-Permethrin  \n",
       "Water Type                    Date    Year Month Location            Latitude  Longitude                    \n",
       "GROUNDWATER                   2004-03 2004 3     1/22/05/68 DOE HILL 55.221358 -1.808043             0.002  \n",
       "                              2007-10 2007 10    HURY FARM           54.579332 -2.060768             0.000  \n",
       "                              2009-01 2009 1     HURY FARM           54.579332 -2.060768             0.001  \n",
       "                              2009-02 2009 2     HURY FARM           54.579332 -2.060768             0.000  \n",
       "                              2009-11 2009 11    HURY FARM           54.579332 -2.060768             0.001  \n",
       "...                                                                                                    ...  \n",
       "RIVER / RUNNING SURFACE WATER 2022-04 2022 4     TILL @ HEATON MILL  55.674946 -2.160534             0.000  \n",
       "                              2022-05 2022 5     TILL @ HEATON MILL  55.674946 -2.160534             0.000  \n",
       "                              2022-06 2022 6     TILL @ HEATON MILL  55.674946 -2.160534             0.000  \n",
       "                              2022-07 2022 7     TILL @ HEATON MILL  55.674946 -2.160534             0.000  \n",
       "                              2022-08 2022 8     TILL @ HEATON MILL  55.674946 -2.160534             0.000  \n",
       "\n",
       "[689 rows x 344 columns]"
      ]
     },
     "execution_count": 7,
     "metadata": {},
     "output_type": "execute_result"
    }
   ],
   "source": [
    "data = result\n",
    "#data[\"determinand.label\"].unique()\n",
    "#Remodel the dataset to group out every label and include their respective value by time and location\n",
    "raw_df = data.pivot_table(index=[\"Water Type\",'Date',\"Year\",'Month', \"Location\", \"Latitude\", \"Longitude\"], columns=[\"Determinand\"], values=\"result\").fillna(0)\n",
    "#, \"Latitude\", \"Longitude\"\n",
    "raw_df\n",
    "#raw_df.to_csv(r'C:\\Users\\Rajan\\documents/masters/app/appdata1.csv')"
   ]
  },
  {
   "cell_type": "code",
   "execution_count": null,
   "metadata": {},
   "outputs": [],
   "source": []
  },
  {
   "cell_type": "code",
   "execution_count": 9,
   "metadata": {},
   "outputs": [],
   "source": []
  },
  {
   "cell_type": "code",
   "execution_count": null,
   "metadata": {},
   "outputs": [],
   "source": []
  },
  {
   "cell_type": "code",
   "execution_count": null,
   "metadata": {},
   "outputs": [],
   "source": []
  },
  {
   "cell_type": "code",
   "execution_count": null,
   "metadata": {},
   "outputs": [],
   "source": []
  },
  {
   "cell_type": "code",
   "execution_count": 44,
   "metadata": {},
   "outputs": [],
   "source": []
  },
  {
   "cell_type": "code",
   "execution_count": 43,
   "metadata": {},
   "outputs": [],
   "source": []
  },
  {
   "cell_type": "code",
   "execution_count": 42,
   "metadata": {},
   "outputs": [],
   "source": []
  },
  {
   "cell_type": "code",
   "execution_count": 8,
   "metadata": {},
   "outputs": [],
   "source": [
    "dooc = raw_df['Carbon, Organic, Dissolved as C :- {DOC}']\n",
    "pH = raw_df['pH']\n",
    "nitrate = raw_df['Nitrate as N']\n",
    "o2 = raw_df['Oxygen, Dissolved as O2']\n"
   ]
  },
  {
   "cell_type": "code",
   "execution_count": 10,
   "metadata": {},
   "outputs": [],
   "source": [
    "concat = pd.concat([dooc,pH, nitrate,o2], axis=1)\n",
    "#concat\n",
    "#concat.to_csv(r'C:\\Users\\Rajan\\documents/masters/app/variablesdata1.csv')"
   ]
  },
  {
   "cell_type": "code",
   "execution_count": 11,
   "metadata": {
    "scrolled": true
   },
   "outputs": [
    {
     "data": {
      "text/plain": [
       "count    689.000000\n",
       "mean       3.885658\n",
       "std        3.868961\n",
       "min        0.000000\n",
       "25%        0.000000\n",
       "50%        6.300000\n",
       "75%        7.730000\n",
       "max        9.240000\n",
       "Name: pH, dtype: float64"
      ]
     },
     "execution_count": 11,
     "metadata": {},
     "output_type": "execute_result"
    }
   ],
   "source": []
  },
  {
   "cell_type": "code",
   "execution_count": 22,
   "metadata": {},
   "outputs": [],
   "source": []
  },
  {
   "cell_type": "code",
   "execution_count": 21,
   "metadata": {},
   "outputs": [],
   "source": [
    "concat['text'] = 'Dissolved Organic Carbon Content = ' + '' + concat['Carbon, Organic, Dissolved as C :- {DOC}'].astype(str) + '          ' + ' , pH = '+ '          '+ concat['pH'].astype(str) +'          '+ ' , Nitrate as N = ' + concat['Nitrate as N'].astype(str) +'          '+ ' , Dissolved Oxygen as O2 = ' + concat['Oxygen, Dissolved as O2'].astype(str)\n",
    "concat\n",
    "concat.to_csv(r'C:\\Users\\Rajan\\documents/masters/app/variablesdataapp.csv')"
   ]
  },
  {
   "cell_type": "code",
   "execution_count": 239,
   "metadata": {},
   "outputs": [
    {
     "ename": "ValueError",
     "evalue": "\n    Invalid element(s) received for the 'data' property of \n        Invalid elements include: [                                                                                          Carbon, Organic, Dissolved as C :- {DOC}  \\\nWater Type                    Date    Year Month Location            Latitude  Longitude                                             \nGROUNDWATER                   2004-03 2004 3     1/22/05/68 DOE HILL 55.221358 -1.808043                                      0.00   \n                              2007-10 2007 10    HURY FARM           54.579332 -2.060768                                      1.81   \n                              2009-01 2009 1     HURY FARM           54.579332 -2.060768                                      1.97   \n                              2009-02 2009 2     HURY FARM           54.579332 -2.060768                                      1.13   \n                              2009-11 2009 11    HURY FARM           54.579332 -2.060768                                      3.52   \n...                                                                                                                            ...   \nRIVER / RUNNING SURFACE WATER 2022-04 2022 4     TILL @ HEATON MILL  55.674946 -2.160534                                      0.00   \n                              2022-05 2022 5     TILL @ HEATON MILL  55.674946 -2.160534                                      0.00   \n                              2022-06 2022 6     TILL @ HEATON MILL  55.674946 -2.160534                                      0.00   \n                              2022-07 2022 7     TILL @ HEATON MILL  55.674946 -2.160534                                      0.00   \n                              2022-08 2022 8     TILL @ HEATON MILL  55.674946 -2.160534                                      0.00   \n\n                                                                                           pH  \\\nWater Type                    Date    Year Month Location            Latitude  Longitude        \nGROUNDWATER                   2004-03 2004 3     1/22/05/68 DOE HILL 55.221358 -1.808043  7.7   \n                              2007-10 2007 10    HURY FARM           54.579332 -2.060768  0.0   \n                              2009-01 2009 1     HURY FARM           54.579332 -2.060768  0.0   \n                              2009-02 2009 2     HURY FARM           54.579332 -2.060768  0.0   \n                              2009-11 2009 11    HURY FARM           54.579332 -2.060768  0.0   \n...                                                                                       ...   \nRIVER / RUNNING SURFACE WATER 2022-04 2022 4     TILL @ HEATON MILL  55.674946 -2.160534  0.0   \n                              2022-05 2022 5     TILL @ HEATON MILL  55.674946 -2.160534  0.0   \n                              2022-06 2022 6     TILL @ HEATON MILL  55.674946 -2.160534  0.0   \n                              2022-07 2022 7     TILL @ HEATON MILL  55.674946 -2.160534  0.0   \n                              2022-08 2022 8     TILL @ HEATON MILL  55.674946 -2.160534  0.0   \n\n                                                                                          Nitrate as N  \\\nWater Type                    Date    Year Month Location            Latitude  Longitude                 \nGROUNDWATER                   2004-03 2004 3     1/22/05/68 DOE HILL 55.221358 -1.808043      4.290000   \n                              2007-10 2007 10    HURY FARM           54.579332 -2.060768      4.000000   \n                              2009-01 2009 1     HURY FARM           54.579332 -2.060768      5.150000   \n                              2009-02 2009 2     HURY FARM           54.579332 -2.060768      4.950000   \n                              2009-11 2009 11    HURY FARM           54.579332 -2.060768      5.550000   \n...                                                                                                ...   \nRIVER / RUNNING SURFACE WATER 2022-04 2022 4     TILL @ HEATON MILL  55.674946 -2.160534      1.917500   \n                              2022-05 2022 5     TILL @ HEATON MILL  55.674946 -2.160534      1.556667   \n                              2022-06 2022 6     TILL @ HEATON MILL  55.674946 -2.160534      1.656667   \n                              2022-07 2022 7     TILL @ HEATON MILL  55.674946 -2.160534      1.565000   \n                              2022-08 2022 8     TILL @ HEATON MILL  55.674946 -2.160534      1.490000   \n\n                                                                                          Oxygen, Dissolved as O2  \\\nWater Type                    Date    Year Month Location            Latitude  Longitude                            \nGROUNDWATER                   2004-03 2004 3     1/22/05/68 DOE HILL 55.221358 -1.808043                     8.67   \n                              2007-10 2007 10    HURY FARM           54.579332 -2.060768                     0.00   \n                              2009-01 2009 1     HURY FARM           54.579332 -2.060768                    11.90   \n                              2009-02 2009 2     HURY FARM           54.579332 -2.060768                     8.24   \n                              2009-11 2009 11    HURY FARM           54.579332 -2.060768                    11.90   \n...                                                                                                           ...   \nRIVER / RUNNING SURFACE WATER 2022-04 2022 4     TILL @ HEATON MILL  55.674946 -2.160534                     0.00   \n                              2022-05 2022 5     TILL @ HEATON MILL  55.674946 -2.160534                     0.00   \n                              2022-06 2022 6     TILL @ HEATON MILL  55.674946 -2.160534                     0.00   \n                              2022-07 2022 7     TILL @ HEATON MILL  55.674946 -2.160534                     0.00   \n                              2022-08 2022 8     TILL @ HEATON MILL  55.674946 -2.160534                     0.00   \n\n                                                                                                                                       text  \nWater Type                    Date    Year Month Location            Latitude  Longitude                                                     \nGROUNDWATER                   2004-03 2004 3     1/22/05/68 DOE HILL 55.221358 -1.808043  Dissolved Organic Carbon Content = 0.0        ...  \n                              2007-10 2007 10    HURY FARM           54.579332 -2.060768  Dissolved Organic Carbon Content = 1.81       ...  \n                              2009-01 2009 1     HURY FARM           54.579332 -2.060768  Dissolved Organic Carbon Content = 1.97       ...  \n                              2009-02 2009 2     HURY FARM           54.579332 -2.060768  Dissolved Organic Carbon Content = 1.13       ...  \n                              2009-11 2009 11    HURY FARM           54.579332 -2.060768  Dissolved Organic Carbon Content = 3.52       ...  \n...                                                                                                                                     ...  \nRIVER / RUNNING SURFACE WATER 2022-04 2022 4     TILL @ HEATON MILL  55.674946 -2.160534  Dissolved Organic Carbon Content = 0.0        ...  \n                              2022-05 2022 5     TILL @ HEATON MILL  55.674946 -2.160534  Dissolved Organic Carbon Content = 0.0        ...  \n                              2022-06 2022 6     TILL @ HEATON MILL  55.674946 -2.160534  Dissolved Organic Carbon Content = 0.0        ...  \n                              2022-07 2022 7     TILL @ HEATON MILL  55.674946 -2.160534  Dissolved Organic Carbon Content = 0.0        ...  \n                              2022-08 2022 8     TILL @ HEATON MILL  55.674946 -2.160534  Dissolved Organic Carbon Content = 0.0        ...  \n\n[689 rows x 5 columns]]\n\n    The 'data' property is a tuple of trace instances\n    that may be specified as:\n      - A list or tuple of trace instances\n        (e.g. [Scatter(...), Bar(...)])\n      - A single trace instance\n        (e.g. Scatter(...), Bar(...), etc.)\n      - A list or tuple of dicts of string/value properties where:\n        - The 'type' property specifies the trace type\n            One of: ['bar', 'barpolar', 'box', 'candlestick',\n                     'carpet', 'choropleth', 'choroplethmapbox',\n                     'cone', 'contour', 'contourcarpet',\n                     'densitymapbox', 'funnel', 'funnelarea',\n                     'heatmap', 'heatmapgl', 'histogram',\n                     'histogram2d', 'histogram2dcontour', 'icicle',\n                     'image', 'indicator', 'isosurface', 'mesh3d',\n                     'ohlc', 'parcats', 'parcoords', 'pie',\n                     'pointcloud', 'sankey', 'scatter',\n                     'scatter3d', 'scattercarpet', 'scattergeo',\n                     'scattergl', 'scattermapbox', 'scatterpolar',\n                     'scatterpolargl', 'scattersmith',\n                     'scatterternary', 'splom', 'streamtube',\n                     'sunburst', 'surface', 'table', 'treemap',\n                     'violin', 'volume', 'waterfall']\n\n        - All remaining properties are passed to the constructor of\n          the specified trace type\n\n        (e.g. [{'type': 'scatter', ...}, {'type': 'bar, ...}])",
     "output_type": "error",
     "traceback": [
      "\u001b[1;31m---------------------------------------------------------------------------\u001b[0m",
      "\u001b[1;31mValueError\u001b[0m                                Traceback (most recent call last)",
      "\u001b[1;32m<ipython-input-239-2c25824d2fa0>\u001b[0m in \u001b[0;36m<module>\u001b[1;34m\u001b[0m\n\u001b[1;32m----> 1\u001b[1;33m fig = go.Figure(data=concat,\n\u001b[0m\u001b[0;32m      2\u001b[0m         \u001b[0mlon\u001b[0m \u001b[1;33m=\u001b[0m \u001b[1;34m'Longitude'\u001b[0m\u001b[1;33m,\u001b[0m\u001b[1;33m\u001b[0m\u001b[1;33m\u001b[0m\u001b[0m\n\u001b[0;32m      3\u001b[0m         \u001b[0mlat\u001b[0m \u001b[1;33m=\u001b[0m \u001b[1;34m'Latitude'\u001b[0m\u001b[1;33m,\u001b[0m\u001b[1;33m\u001b[0m\u001b[1;33m\u001b[0m\u001b[0m\n\u001b[0;32m      4\u001b[0m         \u001b[0mtext\u001b[0m \u001b[1;33m=\u001b[0m \u001b[0mresult\u001b[0m\u001b[1;33m[\u001b[0m\u001b[1;34m'Determinand'\u001b[0m\u001b[1;33m]\u001b[0m\u001b[1;33m,\u001b[0m\u001b[1;33m\u001b[0m\u001b[1;33m\u001b[0m\u001b[0m\n\u001b[0;32m      5\u001b[0m         \u001b[1;31m#result['Location'],\u001b[0m\u001b[1;33m\u001b[0m\u001b[1;33m\u001b[0m\u001b[1;33m\u001b[0m\u001b[0m\n",
      "\u001b[1;32m~\\anaconda3\\lib\\site-packages\\plotly\\graph_objs\\_figure.py\u001b[0m in \u001b[0;36m__init__\u001b[1;34m(self, data, layout, frames, skip_invalid, **kwargs)\u001b[0m\n\u001b[0;32m    592\u001b[0m             \u001b[1;32mis\u001b[0m \u001b[0minvalid\u001b[0m \u001b[0mAND\u001b[0m \u001b[0mskip_invalid\u001b[0m \u001b[1;32mis\u001b[0m \u001b[1;32mFalse\u001b[0m\u001b[1;33m\u001b[0m\u001b[1;33m\u001b[0m\u001b[0m\n\u001b[0;32m    593\u001b[0m         \"\"\"\n\u001b[1;32m--> 594\u001b[1;33m         \u001b[0msuper\u001b[0m\u001b[1;33m(\u001b[0m\u001b[0mFigure\u001b[0m\u001b[1;33m,\u001b[0m \u001b[0mself\u001b[0m\u001b[1;33m)\u001b[0m\u001b[1;33m.\u001b[0m\u001b[0m__init__\u001b[0m\u001b[1;33m(\u001b[0m\u001b[0mdata\u001b[0m\u001b[1;33m,\u001b[0m \u001b[0mlayout\u001b[0m\u001b[1;33m,\u001b[0m \u001b[0mframes\u001b[0m\u001b[1;33m,\u001b[0m \u001b[0mskip_invalid\u001b[0m\u001b[1;33m,\u001b[0m \u001b[1;33m**\u001b[0m\u001b[0mkwargs\u001b[0m\u001b[1;33m)\u001b[0m\u001b[1;33m\u001b[0m\u001b[1;33m\u001b[0m\u001b[0m\n\u001b[0m\u001b[0;32m    595\u001b[0m \u001b[1;33m\u001b[0m\u001b[0m\n\u001b[0;32m    596\u001b[0m     \u001b[1;32mdef\u001b[0m \u001b[0mupdate\u001b[0m\u001b[1;33m(\u001b[0m\u001b[0mself\u001b[0m\u001b[1;33m,\u001b[0m \u001b[0mdict1\u001b[0m\u001b[1;33m=\u001b[0m\u001b[1;32mNone\u001b[0m\u001b[1;33m,\u001b[0m \u001b[0moverwrite\u001b[0m\u001b[1;33m=\u001b[0m\u001b[1;32mFalse\u001b[0m\u001b[1;33m,\u001b[0m \u001b[1;33m**\u001b[0m\u001b[0mkwargs\u001b[0m\u001b[1;33m)\u001b[0m \u001b[1;33m->\u001b[0m \u001b[1;34m\"Figure\"\u001b[0m\u001b[1;33m:\u001b[0m\u001b[1;33m\u001b[0m\u001b[1;33m\u001b[0m\u001b[0m\n",
      "\u001b[1;32m~\\anaconda3\\lib\\site-packages\\plotly\\basedatatypes.py\u001b[0m in \u001b[0;36m__init__\u001b[1;34m(self, data, layout_plotly, frames, skip_invalid, **kwargs)\u001b[0m\n\u001b[0;32m    512\u001b[0m \u001b[1;33m\u001b[0m\u001b[0m\n\u001b[0;32m    513\u001b[0m         \u001b[1;31m# ### Import traces ###\u001b[0m\u001b[1;33m\u001b[0m\u001b[1;33m\u001b[0m\u001b[1;33m\u001b[0m\u001b[0m\n\u001b[1;32m--> 514\u001b[1;33m         data = self._data_validator.validate_coerce(\n\u001b[0m\u001b[0;32m    515\u001b[0m             \u001b[0mdata\u001b[0m\u001b[1;33m,\u001b[0m \u001b[0mskip_invalid\u001b[0m\u001b[1;33m=\u001b[0m\u001b[0mskip_invalid\u001b[0m\u001b[1;33m,\u001b[0m \u001b[0m_validate\u001b[0m\u001b[1;33m=\u001b[0m\u001b[0mself\u001b[0m\u001b[1;33m.\u001b[0m\u001b[0m_validate\u001b[0m\u001b[1;33m\u001b[0m\u001b[1;33m\u001b[0m\u001b[0m\n\u001b[0;32m    516\u001b[0m         )\n",
      "\u001b[1;32m~\\anaconda3\\lib\\site-packages\\_plotly_utils\\basevalidators.py\u001b[0m in \u001b[0;36mvalidate_coerce\u001b[1;34m(self, v, skip_invalid, _validate)\u001b[0m\n\u001b[0;32m   2680\u001b[0m \u001b[1;33m\u001b[0m\u001b[0m\n\u001b[0;32m   2681\u001b[0m             \u001b[1;32mif\u001b[0m \u001b[0minvalid_els\u001b[0m\u001b[1;33m:\u001b[0m\u001b[1;33m\u001b[0m\u001b[1;33m\u001b[0m\u001b[0m\n\u001b[1;32m-> 2682\u001b[1;33m                 \u001b[0mself\u001b[0m\u001b[1;33m.\u001b[0m\u001b[0mraise_invalid_elements\u001b[0m\u001b[1;33m(\u001b[0m\u001b[0minvalid_els\u001b[0m\u001b[1;33m)\u001b[0m\u001b[1;33m\u001b[0m\u001b[1;33m\u001b[0m\u001b[0m\n\u001b[0m\u001b[0;32m   2683\u001b[0m \u001b[1;33m\u001b[0m\u001b[0m\n\u001b[0;32m   2684\u001b[0m             \u001b[0mv\u001b[0m \u001b[1;33m=\u001b[0m \u001b[0mto_scalar_or_list\u001b[0m\u001b[1;33m(\u001b[0m\u001b[0mres\u001b[0m\u001b[1;33m)\u001b[0m\u001b[1;33m\u001b[0m\u001b[1;33m\u001b[0m\u001b[0m\n",
      "\u001b[1;32m~\\anaconda3\\lib\\site-packages\\_plotly_utils\\basevalidators.py\u001b[0m in \u001b[0;36mraise_invalid_elements\u001b[1;34m(self, invalid_els)\u001b[0m\n\u001b[0;32m    302\u001b[0m     \u001b[1;32mdef\u001b[0m \u001b[0mraise_invalid_elements\u001b[0m\u001b[1;33m(\u001b[0m\u001b[0mself\u001b[0m\u001b[1;33m,\u001b[0m \u001b[0minvalid_els\u001b[0m\u001b[1;33m)\u001b[0m\u001b[1;33m:\u001b[0m\u001b[1;33m\u001b[0m\u001b[1;33m\u001b[0m\u001b[0m\n\u001b[0;32m    303\u001b[0m         \u001b[1;32mif\u001b[0m \u001b[0minvalid_els\u001b[0m\u001b[1;33m:\u001b[0m\u001b[1;33m\u001b[0m\u001b[1;33m\u001b[0m\u001b[0m\n\u001b[1;32m--> 304\u001b[1;33m             raise ValueError(\n\u001b[0m\u001b[0;32m    305\u001b[0m                 \"\"\"\n\u001b[0;32m    306\u001b[0m     \u001b[0mInvalid\u001b[0m \u001b[0melement\u001b[0m\u001b[1;33m(\u001b[0m\u001b[0ms\u001b[0m\u001b[1;33m)\u001b[0m \u001b[0mreceived\u001b[0m \u001b[1;32mfor\u001b[0m \u001b[0mthe\u001b[0m \u001b[1;34m'{name}'\u001b[0m \u001b[0mproperty\u001b[0m \u001b[0mof\u001b[0m \u001b[1;33m{\u001b[0m\u001b[0mpname\u001b[0m\u001b[1;33m}\u001b[0m\u001b[1;33m\u001b[0m\u001b[1;33m\u001b[0m\u001b[0m\n",
      "\u001b[1;31mValueError\u001b[0m: \n    Invalid element(s) received for the 'data' property of \n        Invalid elements include: [                                                                                          Carbon, Organic, Dissolved as C :- {DOC}  \\\nWater Type                    Date    Year Month Location            Latitude  Longitude                                             \nGROUNDWATER                   2004-03 2004 3     1/22/05/68 DOE HILL 55.221358 -1.808043                                      0.00   \n                              2007-10 2007 10    HURY FARM           54.579332 -2.060768                                      1.81   \n                              2009-01 2009 1     HURY FARM           54.579332 -2.060768                                      1.97   \n                              2009-02 2009 2     HURY FARM           54.579332 -2.060768                                      1.13   \n                              2009-11 2009 11    HURY FARM           54.579332 -2.060768                                      3.52   \n...                                                                                                                            ...   \nRIVER / RUNNING SURFACE WATER 2022-04 2022 4     TILL @ HEATON MILL  55.674946 -2.160534                                      0.00   \n                              2022-05 2022 5     TILL @ HEATON MILL  55.674946 -2.160534                                      0.00   \n                              2022-06 2022 6     TILL @ HEATON MILL  55.674946 -2.160534                                      0.00   \n                              2022-07 2022 7     TILL @ HEATON MILL  55.674946 -2.160534                                      0.00   \n                              2022-08 2022 8     TILL @ HEATON MILL  55.674946 -2.160534                                      0.00   \n\n                                                                                           pH  \\\nWater Type                    Date    Year Month Location            Latitude  Longitude        \nGROUNDWATER                   2004-03 2004 3     1/22/05/68 DOE HILL 55.221358 -1.808043  7.7   \n                              2007-10 2007 10    HURY FARM           54.579332 -2.060768  0.0   \n                              2009-01 2009 1     HURY FARM           54.579332 -2.060768  0.0   \n                              2009-02 2009 2     HURY FARM           54.579332 -2.060768  0.0   \n                              2009-11 2009 11    HURY FARM           54.579332 -2.060768  0.0   \n...                                                                                       ...   \nRIVER / RUNNING SURFACE WATER 2022-04 2022 4     TILL @ HEATON MILL  55.674946 -2.160534  0.0   \n                              2022-05 2022 5     TILL @ HEATON MILL  55.674946 -2.160534  0.0   \n                              2022-06 2022 6     TILL @ HEATON MILL  55.674946 -2.160534  0.0   \n                              2022-07 2022 7     TILL @ HEATON MILL  55.674946 -2.160534  0.0   \n                              2022-08 2022 8     TILL @ HEATON MILL  55.674946 -2.160534  0.0   \n\n                                                                                          Nitrate as N  \\\nWater Type                    Date    Year Month Location            Latitude  Longitude                 \nGROUNDWATER                   2004-03 2004 3     1/22/05/68 DOE HILL 55.221358 -1.808043      4.290000   \n                              2007-10 2007 10    HURY FARM           54.579332 -2.060768      4.000000   \n                              2009-01 2009 1     HURY FARM           54.579332 -2.060768      5.150000   \n                              2009-02 2009 2     HURY FARM           54.579332 -2.060768      4.950000   \n                              2009-11 2009 11    HURY FARM           54.579332 -2.060768      5.550000   \n...                                                                                                ...   \nRIVER / RUNNING SURFACE WATER 2022-04 2022 4     TILL @ HEATON MILL  55.674946 -2.160534      1.917500   \n                              2022-05 2022 5     TILL @ HEATON MILL  55.674946 -2.160534      1.556667   \n                              2022-06 2022 6     TILL @ HEATON MILL  55.674946 -2.160534      1.656667   \n                              2022-07 2022 7     TILL @ HEATON MILL  55.674946 -2.160534      1.565000   \n                              2022-08 2022 8     TILL @ HEATON MILL  55.674946 -2.160534      1.490000   \n\n                                                                                          Oxygen, Dissolved as O2  \\\nWater Type                    Date    Year Month Location            Latitude  Longitude                            \nGROUNDWATER                   2004-03 2004 3     1/22/05/68 DOE HILL 55.221358 -1.808043                     8.67   \n                              2007-10 2007 10    HURY FARM           54.579332 -2.060768                     0.00   \n                              2009-01 2009 1     HURY FARM           54.579332 -2.060768                    11.90   \n                              2009-02 2009 2     HURY FARM           54.579332 -2.060768                     8.24   \n                              2009-11 2009 11    HURY FARM           54.579332 -2.060768                    11.90   \n...                                                                                                           ...   \nRIVER / RUNNING SURFACE WATER 2022-04 2022 4     TILL @ HEATON MILL  55.674946 -2.160534                     0.00   \n                              2022-05 2022 5     TILL @ HEATON MILL  55.674946 -2.160534                     0.00   \n                              2022-06 2022 6     TILL @ HEATON MILL  55.674946 -2.160534                     0.00   \n                              2022-07 2022 7     TILL @ HEATON MILL  55.674946 -2.160534                     0.00   \n                              2022-08 2022 8     TILL @ HEATON MILL  55.674946 -2.160534                     0.00   \n\n                                                                                                                                       text  \nWater Type                    Date    Year Month Location            Latitude  Longitude                                                     \nGROUNDWATER                   2004-03 2004 3     1/22/05/68 DOE HILL 55.221358 -1.808043  Dissolved Organic Carbon Content = 0.0        ...  \n                              2007-10 2007 10    HURY FARM           54.579332 -2.060768  Dissolved Organic Carbon Content = 1.81       ...  \n                              2009-01 2009 1     HURY FARM           54.579332 -2.060768  Dissolved Organic Carbon Content = 1.97       ...  \n                              2009-02 2009 2     HURY FARM           54.579332 -2.060768  Dissolved Organic Carbon Content = 1.13       ...  \n                              2009-11 2009 11    HURY FARM           54.579332 -2.060768  Dissolved Organic Carbon Content = 3.52       ...  \n...                                                                                                                                     ...  \nRIVER / RUNNING SURFACE WATER 2022-04 2022 4     TILL @ HEATON MILL  55.674946 -2.160534  Dissolved Organic Carbon Content = 0.0        ...  \n                              2022-05 2022 5     TILL @ HEATON MILL  55.674946 -2.160534  Dissolved Organic Carbon Content = 0.0        ...  \n                              2022-06 2022 6     TILL @ HEATON MILL  55.674946 -2.160534  Dissolved Organic Carbon Content = 0.0        ...  \n                              2022-07 2022 7     TILL @ HEATON MILL  55.674946 -2.160534  Dissolved Organic Carbon Content = 0.0        ...  \n                              2022-08 2022 8     TILL @ HEATON MILL  55.674946 -2.160534  Dissolved Organic Carbon Content = 0.0        ...  \n\n[689 rows x 5 columns]]\n\n    The 'data' property is a tuple of trace instances\n    that may be specified as:\n      - A list or tuple of trace instances\n        (e.g. [Scatter(...), Bar(...)])\n      - A single trace instance\n        (e.g. Scatter(...), Bar(...), etc.)\n      - A list or tuple of dicts of string/value properties where:\n        - The 'type' property specifies the trace type\n            One of: ['bar', 'barpolar', 'box', 'candlestick',\n                     'carpet', 'choropleth', 'choroplethmapbox',\n                     'cone', 'contour', 'contourcarpet',\n                     'densitymapbox', 'funnel', 'funnelarea',\n                     'heatmap', 'heatmapgl', 'histogram',\n                     'histogram2d', 'histogram2dcontour', 'icicle',\n                     'image', 'indicator', 'isosurface', 'mesh3d',\n                     'ohlc', 'parcats', 'parcoords', 'pie',\n                     'pointcloud', 'sankey', 'scatter',\n                     'scatter3d', 'scattercarpet', 'scattergeo',\n                     'scattergl', 'scattermapbox', 'scatterpolar',\n                     'scatterpolargl', 'scattersmith',\n                     'scatterternary', 'splom', 'streamtube',\n                     'sunburst', 'surface', 'table', 'treemap',\n                     'violin', 'volume', 'waterfall']\n\n        - All remaining properties are passed to the constructor of\n          the specified trace type\n\n        (e.g. [{'type': 'scatter', ...}, {'type': 'bar, ...}])"
     ]
    }
   ],
   "source": []
  },
  {
   "cell_type": "code",
   "execution_count": 15,
   "metadata": {},
   "outputs": [
    {
     "name": "stdout",
     "output_type": "stream",
     "text": [
      "Month number =5\n",
      "Year = 2009\n"
     ]
    },
    {
     "data": {
      "text/html": [
       "<div>\n",
       "<style scoped>\n",
       "    .dataframe tbody tr th:only-of-type {\n",
       "        vertical-align: middle;\n",
       "    }\n",
       "\n",
       "    .dataframe tbody tr th {\n",
       "        vertical-align: top;\n",
       "    }\n",
       "\n",
       "    .dataframe thead th {\n",
       "        text-align: right;\n",
       "    }\n",
       "</style>\n",
       "<table border=\"1\" class=\"dataframe\">\n",
       "  <thead>\n",
       "    <tr style=\"text-align: right;\">\n",
       "      <th></th>\n",
       "      <th>Water Type</th>\n",
       "      <th>Date</th>\n",
       "      <th>Year</th>\n",
       "      <th>Month</th>\n",
       "      <th>Location</th>\n",
       "      <th>Latitude</th>\n",
       "      <th>Longitude</th>\n",
       "      <th>Carbon, Organic, Dissolved as C :- {DOC}</th>\n",
       "      <th>pH</th>\n",
       "      <th>Nitrate as N</th>\n",
       "      <th>Oxygen, Dissolved as O2</th>\n",
       "      <th>text</th>\n",
       "    </tr>\n",
       "  </thead>\n",
       "  <tbody>\n",
       "    <tr>\n",
       "      <th>483</th>\n",
       "      <td>RIVER / RUNNING SURFACE WATER</td>\n",
       "      <td>2009-05</td>\n",
       "      <td>2009</td>\n",
       "      <td>5</td>\n",
       "      <td>TILL @ HEATON MILL</td>\n",
       "      <td>55.674946</td>\n",
       "      <td>-2.160534</td>\n",
       "      <td>0.0</td>\n",
       "      <td>0.0</td>\n",
       "      <td>2.0625</td>\n",
       "      <td>0.0</td>\n",
       "      <td>Dissolved Organic Carbon Content = 0.0        ...</td>\n",
       "    </tr>\n",
       "  </tbody>\n",
       "</table>\n",
       "</div>"
      ],
      "text/plain": [
       "                        Water Type     Date  Year  Month            Location  \\\n",
       "483  RIVER / RUNNING SURFACE WATER  2009-05  2009      5  TILL @ HEATON MILL   \n",
       "\n",
       "      Latitude  Longitude  Carbon, Organic, Dissolved as C :- {DOC}   pH  \\\n",
       "483  55.674946  -2.160534                                       0.0  0.0   \n",
       "\n",
       "     Nitrate as N  Oxygen, Dissolved as O2  \\\n",
       "483        2.0625                      0.0   \n",
       "\n",
       "                                                  text  \n",
       "483  Dissolved Organic Carbon Content = 0.0        ...  "
      ]
     },
     "execution_count": 15,
     "metadata": {},
     "output_type": "execute_result"
    }
   ],
   "source": [
    "df = concat.reset_index()\n",
    "month = int(input('Month number ='))\n",
    "year = int(input('Year = '))\n",
    "df2009 = df.loc[df['Year'] == year]\n",
    "df2009month = df2009.loc[df2009['Month'] == month]\n",
    "df2009month"
   ]
  },
  {
   "cell_type": "code",
   "execution_count": 20,
   "metadata": {},
   "outputs": [
    {
     "data": {
      "application/vnd.plotly.v1+json": {
       "config": {
        "plotlyServerURL": "https://plot.ly"
       },
       "data": [
        {
         "geo": "geo",
         "hovertemplate": "<b>%{hovertext}</b><br><br>Location=TILL @ HEATON MILL<br>Nitrate as N=%{marker.size}<br>Latitude=%{lat}<br>Longitude=%{lon}<extra></extra>",
         "hovertext": [
          "Dissolved Organic Carbon Content = 0.0           , pH =           0.0           , Nitrate as N = 2.0625           , Dissolved Oxygen as O2 = 0.0"
         ],
         "lat": [
          55.674945826365814
         ],
         "legendgroup": "TILL @ HEATON MILL",
         "lon": [
          -2.160534365357642
         ],
         "marker": {
          "color": "#636efa",
          "size": [
           2.0625
          ],
          "sizemode": "area",
          "sizeref": 0.00515625,
          "symbol": "circle"
         },
         "mode": "markers",
         "name": "TILL @ HEATON MILL",
         "showlegend": true,
         "type": "scattergeo"
        }
       ],
       "layout": {
        "geo": {
         "center": {},
         "domain": {
          "x": [
           0,
           1
          ],
          "y": [
           0,
           1
          ]
         },
         "fitbounds": "geojson",
         "scope": "europe"
        },
        "legend": {
         "itemsizing": "constant",
         "title": {
          "text": "Location"
         },
         "tracegroupgap": 0
        },
        "margin": {
         "t": 60
        },
        "template": {
         "data": {
          "bar": [
           {
            "error_x": {
             "color": "#2a3f5f"
            },
            "error_y": {
             "color": "#2a3f5f"
            },
            "marker": {
             "line": {
              "color": "#E5ECF6",
              "width": 0.5
             },
             "pattern": {
              "fillmode": "overlay",
              "size": 10,
              "solidity": 0.2
             }
            },
            "type": "bar"
           }
          ],
          "barpolar": [
           {
            "marker": {
             "line": {
              "color": "#E5ECF6",
              "width": 0.5
             },
             "pattern": {
              "fillmode": "overlay",
              "size": 10,
              "solidity": 0.2
             }
            },
            "type": "barpolar"
           }
          ],
          "carpet": [
           {
            "aaxis": {
             "endlinecolor": "#2a3f5f",
             "gridcolor": "white",
             "linecolor": "white",
             "minorgridcolor": "white",
             "startlinecolor": "#2a3f5f"
            },
            "baxis": {
             "endlinecolor": "#2a3f5f",
             "gridcolor": "white",
             "linecolor": "white",
             "minorgridcolor": "white",
             "startlinecolor": "#2a3f5f"
            },
            "type": "carpet"
           }
          ],
          "choropleth": [
           {
            "colorbar": {
             "outlinewidth": 0,
             "ticks": ""
            },
            "type": "choropleth"
           }
          ],
          "contour": [
           {
            "colorbar": {
             "outlinewidth": 0,
             "ticks": ""
            },
            "colorscale": [
             [
              0,
              "#0d0887"
             ],
             [
              0.1111111111111111,
              "#46039f"
             ],
             [
              0.2222222222222222,
              "#7201a8"
             ],
             [
              0.3333333333333333,
              "#9c179e"
             ],
             [
              0.4444444444444444,
              "#bd3786"
             ],
             [
              0.5555555555555556,
              "#d8576b"
             ],
             [
              0.6666666666666666,
              "#ed7953"
             ],
             [
              0.7777777777777778,
              "#fb9f3a"
             ],
             [
              0.8888888888888888,
              "#fdca26"
             ],
             [
              1,
              "#f0f921"
             ]
            ],
            "type": "contour"
           }
          ],
          "contourcarpet": [
           {
            "colorbar": {
             "outlinewidth": 0,
             "ticks": ""
            },
            "type": "contourcarpet"
           }
          ],
          "heatmap": [
           {
            "colorbar": {
             "outlinewidth": 0,
             "ticks": ""
            },
            "colorscale": [
             [
              0,
              "#0d0887"
             ],
             [
              0.1111111111111111,
              "#46039f"
             ],
             [
              0.2222222222222222,
              "#7201a8"
             ],
             [
              0.3333333333333333,
              "#9c179e"
             ],
             [
              0.4444444444444444,
              "#bd3786"
             ],
             [
              0.5555555555555556,
              "#d8576b"
             ],
             [
              0.6666666666666666,
              "#ed7953"
             ],
             [
              0.7777777777777778,
              "#fb9f3a"
             ],
             [
              0.8888888888888888,
              "#fdca26"
             ],
             [
              1,
              "#f0f921"
             ]
            ],
            "type": "heatmap"
           }
          ],
          "heatmapgl": [
           {
            "colorbar": {
             "outlinewidth": 0,
             "ticks": ""
            },
            "colorscale": [
             [
              0,
              "#0d0887"
             ],
             [
              0.1111111111111111,
              "#46039f"
             ],
             [
              0.2222222222222222,
              "#7201a8"
             ],
             [
              0.3333333333333333,
              "#9c179e"
             ],
             [
              0.4444444444444444,
              "#bd3786"
             ],
             [
              0.5555555555555556,
              "#d8576b"
             ],
             [
              0.6666666666666666,
              "#ed7953"
             ],
             [
              0.7777777777777778,
              "#fb9f3a"
             ],
             [
              0.8888888888888888,
              "#fdca26"
             ],
             [
              1,
              "#f0f921"
             ]
            ],
            "type": "heatmapgl"
           }
          ],
          "histogram": [
           {
            "marker": {
             "pattern": {
              "fillmode": "overlay",
              "size": 10,
              "solidity": 0.2
             }
            },
            "type": "histogram"
           }
          ],
          "histogram2d": [
           {
            "colorbar": {
             "outlinewidth": 0,
             "ticks": ""
            },
            "colorscale": [
             [
              0,
              "#0d0887"
             ],
             [
              0.1111111111111111,
              "#46039f"
             ],
             [
              0.2222222222222222,
              "#7201a8"
             ],
             [
              0.3333333333333333,
              "#9c179e"
             ],
             [
              0.4444444444444444,
              "#bd3786"
             ],
             [
              0.5555555555555556,
              "#d8576b"
             ],
             [
              0.6666666666666666,
              "#ed7953"
             ],
             [
              0.7777777777777778,
              "#fb9f3a"
             ],
             [
              0.8888888888888888,
              "#fdca26"
             ],
             [
              1,
              "#f0f921"
             ]
            ],
            "type": "histogram2d"
           }
          ],
          "histogram2dcontour": [
           {
            "colorbar": {
             "outlinewidth": 0,
             "ticks": ""
            },
            "colorscale": [
             [
              0,
              "#0d0887"
             ],
             [
              0.1111111111111111,
              "#46039f"
             ],
             [
              0.2222222222222222,
              "#7201a8"
             ],
             [
              0.3333333333333333,
              "#9c179e"
             ],
             [
              0.4444444444444444,
              "#bd3786"
             ],
             [
              0.5555555555555556,
              "#d8576b"
             ],
             [
              0.6666666666666666,
              "#ed7953"
             ],
             [
              0.7777777777777778,
              "#fb9f3a"
             ],
             [
              0.8888888888888888,
              "#fdca26"
             ],
             [
              1,
              "#f0f921"
             ]
            ],
            "type": "histogram2dcontour"
           }
          ],
          "mesh3d": [
           {
            "colorbar": {
             "outlinewidth": 0,
             "ticks": ""
            },
            "type": "mesh3d"
           }
          ],
          "parcoords": [
           {
            "line": {
             "colorbar": {
              "outlinewidth": 0,
              "ticks": ""
             }
            },
            "type": "parcoords"
           }
          ],
          "pie": [
           {
            "automargin": true,
            "type": "pie"
           }
          ],
          "scatter": [
           {
            "fillpattern": {
             "fillmode": "overlay",
             "size": 10,
             "solidity": 0.2
            },
            "type": "scatter"
           }
          ],
          "scatter3d": [
           {
            "line": {
             "colorbar": {
              "outlinewidth": 0,
              "ticks": ""
             }
            },
            "marker": {
             "colorbar": {
              "outlinewidth": 0,
              "ticks": ""
             }
            },
            "type": "scatter3d"
           }
          ],
          "scattercarpet": [
           {
            "marker": {
             "colorbar": {
              "outlinewidth": 0,
              "ticks": ""
             }
            },
            "type": "scattercarpet"
           }
          ],
          "scattergeo": [
           {
            "marker": {
             "colorbar": {
              "outlinewidth": 0,
              "ticks": ""
             }
            },
            "type": "scattergeo"
           }
          ],
          "scattergl": [
           {
            "marker": {
             "colorbar": {
              "outlinewidth": 0,
              "ticks": ""
             }
            },
            "type": "scattergl"
           }
          ],
          "scattermapbox": [
           {
            "marker": {
             "colorbar": {
              "outlinewidth": 0,
              "ticks": ""
             }
            },
            "type": "scattermapbox"
           }
          ],
          "scatterpolar": [
           {
            "marker": {
             "colorbar": {
              "outlinewidth": 0,
              "ticks": ""
             }
            },
            "type": "scatterpolar"
           }
          ],
          "scatterpolargl": [
           {
            "marker": {
             "colorbar": {
              "outlinewidth": 0,
              "ticks": ""
             }
            },
            "type": "scatterpolargl"
           }
          ],
          "scatterternary": [
           {
            "marker": {
             "colorbar": {
              "outlinewidth": 0,
              "ticks": ""
             }
            },
            "type": "scatterternary"
           }
          ],
          "surface": [
           {
            "colorbar": {
             "outlinewidth": 0,
             "ticks": ""
            },
            "colorscale": [
             [
              0,
              "#0d0887"
             ],
             [
              0.1111111111111111,
              "#46039f"
             ],
             [
              0.2222222222222222,
              "#7201a8"
             ],
             [
              0.3333333333333333,
              "#9c179e"
             ],
             [
              0.4444444444444444,
              "#bd3786"
             ],
             [
              0.5555555555555556,
              "#d8576b"
             ],
             [
              0.6666666666666666,
              "#ed7953"
             ],
             [
              0.7777777777777778,
              "#fb9f3a"
             ],
             [
              0.8888888888888888,
              "#fdca26"
             ],
             [
              1,
              "#f0f921"
             ]
            ],
            "type": "surface"
           }
          ],
          "table": [
           {
            "cells": {
             "fill": {
              "color": "#EBF0F8"
             },
             "line": {
              "color": "white"
             }
            },
            "header": {
             "fill": {
              "color": "#C8D4E3"
             },
             "line": {
              "color": "white"
             }
            },
            "type": "table"
           }
          ]
         },
         "layout": {
          "annotationdefaults": {
           "arrowcolor": "#2a3f5f",
           "arrowhead": 0,
           "arrowwidth": 1
          },
          "autotypenumbers": "strict",
          "coloraxis": {
           "colorbar": {
            "outlinewidth": 0,
            "ticks": ""
           }
          },
          "colorscale": {
           "diverging": [
            [
             0,
             "#8e0152"
            ],
            [
             0.1,
             "#c51b7d"
            ],
            [
             0.2,
             "#de77ae"
            ],
            [
             0.3,
             "#f1b6da"
            ],
            [
             0.4,
             "#fde0ef"
            ],
            [
             0.5,
             "#f7f7f7"
            ],
            [
             0.6,
             "#e6f5d0"
            ],
            [
             0.7,
             "#b8e186"
            ],
            [
             0.8,
             "#7fbc41"
            ],
            [
             0.9,
             "#4d9221"
            ],
            [
             1,
             "#276419"
            ]
           ],
           "sequential": [
            [
             0,
             "#0d0887"
            ],
            [
             0.1111111111111111,
             "#46039f"
            ],
            [
             0.2222222222222222,
             "#7201a8"
            ],
            [
             0.3333333333333333,
             "#9c179e"
            ],
            [
             0.4444444444444444,
             "#bd3786"
            ],
            [
             0.5555555555555556,
             "#d8576b"
            ],
            [
             0.6666666666666666,
             "#ed7953"
            ],
            [
             0.7777777777777778,
             "#fb9f3a"
            ],
            [
             0.8888888888888888,
             "#fdca26"
            ],
            [
             1,
             "#f0f921"
            ]
           ],
           "sequentialminus": [
            [
             0,
             "#0d0887"
            ],
            [
             0.1111111111111111,
             "#46039f"
            ],
            [
             0.2222222222222222,
             "#7201a8"
            ],
            [
             0.3333333333333333,
             "#9c179e"
            ],
            [
             0.4444444444444444,
             "#bd3786"
            ],
            [
             0.5555555555555556,
             "#d8576b"
            ],
            [
             0.6666666666666666,
             "#ed7953"
            ],
            [
             0.7777777777777778,
             "#fb9f3a"
            ],
            [
             0.8888888888888888,
             "#fdca26"
            ],
            [
             1,
             "#f0f921"
            ]
           ]
          },
          "colorway": [
           "#636efa",
           "#EF553B",
           "#00cc96",
           "#ab63fa",
           "#FFA15A",
           "#19d3f3",
           "#FF6692",
           "#B6E880",
           "#FF97FF",
           "#FECB52"
          ],
          "font": {
           "color": "#2a3f5f"
          },
          "geo": {
           "bgcolor": "white",
           "lakecolor": "white",
           "landcolor": "#E5ECF6",
           "showlakes": true,
           "showland": true,
           "subunitcolor": "white"
          },
          "hoverlabel": {
           "align": "left"
          },
          "hovermode": "closest",
          "mapbox": {
           "style": "light"
          },
          "paper_bgcolor": "white",
          "plot_bgcolor": "#E5ECF6",
          "polar": {
           "angularaxis": {
            "gridcolor": "white",
            "linecolor": "white",
            "ticks": ""
           },
           "bgcolor": "#E5ECF6",
           "radialaxis": {
            "gridcolor": "white",
            "linecolor": "white",
            "ticks": ""
           }
          },
          "scene": {
           "xaxis": {
            "backgroundcolor": "#E5ECF6",
            "gridcolor": "white",
            "gridwidth": 2,
            "linecolor": "white",
            "showbackground": true,
            "ticks": "",
            "zerolinecolor": "white"
           },
           "yaxis": {
            "backgroundcolor": "#E5ECF6",
            "gridcolor": "white",
            "gridwidth": 2,
            "linecolor": "white",
            "showbackground": true,
            "ticks": "",
            "zerolinecolor": "white"
           },
           "zaxis": {
            "backgroundcolor": "#E5ECF6",
            "gridcolor": "white",
            "gridwidth": 2,
            "linecolor": "white",
            "showbackground": true,
            "ticks": "",
            "zerolinecolor": "white"
           }
          },
          "shapedefaults": {
           "line": {
            "color": "#2a3f5f"
           }
          },
          "ternary": {
           "aaxis": {
            "gridcolor": "white",
            "linecolor": "white",
            "ticks": ""
           },
           "baxis": {
            "gridcolor": "white",
            "linecolor": "white",
            "ticks": ""
           },
           "bgcolor": "#E5ECF6",
           "caxis": {
            "gridcolor": "white",
            "linecolor": "white",
            "ticks": ""
           }
          },
          "title": {
           "x": 0.05
          },
          "xaxis": {
           "automargin": true,
           "gridcolor": "white",
           "linecolor": "white",
           "ticks": "",
           "title": {
            "standoff": 15
           },
           "zerolinecolor": "white",
           "zerolinewidth": 2
          },
          "yaxis": {
           "automargin": true,
           "gridcolor": "white",
           "linecolor": "white",
           "ticks": "",
           "title": {
            "standoff": 15
           },
           "zerolinecolor": "white",
           "zerolinewidth": 2
          }
         }
        },
        "title": {
         "text": "Dissolved Oxygen content in water"
        }
       }
      },
      "text/html": [
       "<div>                            <div id=\"33590b33-0a2a-4d68-a2ee-95c659e929cb\" class=\"plotly-graph-div\" style=\"height:525px; width:100%;\"></div>            <script type=\"text/javascript\">                require([\"plotly\"], function(Plotly) {                    window.PLOTLYENV=window.PLOTLYENV || {};                                    if (document.getElementById(\"33590b33-0a2a-4d68-a2ee-95c659e929cb\")) {                    Plotly.newPlot(                        \"33590b33-0a2a-4d68-a2ee-95c659e929cb\",                        [{\"geo\":\"geo\",\"hovertemplate\":\"<b>%{hovertext}</b><br><br>Location=TILL @ HEATON MILL<br>Nitrate as N=%{marker.size}<br>Latitude=%{lat}<br>Longitude=%{lon}<extra></extra>\",\"hovertext\":[\"Dissolved Organic Carbon Content = 0.0           , pH =           0.0           , Nitrate as N = 2.0625           , Dissolved Oxygen as O2 = 0.0\"],\"lat\":[55.674945826365814],\"legendgroup\":\"TILL @ HEATON MILL\",\"lon\":[-2.160534365357642],\"marker\":{\"color\":\"#636efa\",\"size\":[2.0625],\"sizemode\":\"area\",\"sizeref\":0.00515625,\"symbol\":\"circle\"},\"mode\":\"markers\",\"name\":\"TILL @ HEATON MILL\",\"showlegend\":true,\"type\":\"scattergeo\"}],                        {\"template\":{\"data\":{\"histogram2dcontour\":[{\"type\":\"histogram2dcontour\",\"colorbar\":{\"outlinewidth\":0,\"ticks\":\"\"},\"colorscale\":[[0.0,\"#0d0887\"],[0.1111111111111111,\"#46039f\"],[0.2222222222222222,\"#7201a8\"],[0.3333333333333333,\"#9c179e\"],[0.4444444444444444,\"#bd3786\"],[0.5555555555555556,\"#d8576b\"],[0.6666666666666666,\"#ed7953\"],[0.7777777777777778,\"#fb9f3a\"],[0.8888888888888888,\"#fdca26\"],[1.0,\"#f0f921\"]]}],\"choropleth\":[{\"type\":\"choropleth\",\"colorbar\":{\"outlinewidth\":0,\"ticks\":\"\"}}],\"histogram2d\":[{\"type\":\"histogram2d\",\"colorbar\":{\"outlinewidth\":0,\"ticks\":\"\"},\"colorscale\":[[0.0,\"#0d0887\"],[0.1111111111111111,\"#46039f\"],[0.2222222222222222,\"#7201a8\"],[0.3333333333333333,\"#9c179e\"],[0.4444444444444444,\"#bd3786\"],[0.5555555555555556,\"#d8576b\"],[0.6666666666666666,\"#ed7953\"],[0.7777777777777778,\"#fb9f3a\"],[0.8888888888888888,\"#fdca26\"],[1.0,\"#f0f921\"]]}],\"heatmap\":[{\"type\":\"heatmap\",\"colorbar\":{\"outlinewidth\":0,\"ticks\":\"\"},\"colorscale\":[[0.0,\"#0d0887\"],[0.1111111111111111,\"#46039f\"],[0.2222222222222222,\"#7201a8\"],[0.3333333333333333,\"#9c179e\"],[0.4444444444444444,\"#bd3786\"],[0.5555555555555556,\"#d8576b\"],[0.6666666666666666,\"#ed7953\"],[0.7777777777777778,\"#fb9f3a\"],[0.8888888888888888,\"#fdca26\"],[1.0,\"#f0f921\"]]}],\"heatmapgl\":[{\"type\":\"heatmapgl\",\"colorbar\":{\"outlinewidth\":0,\"ticks\":\"\"},\"colorscale\":[[0.0,\"#0d0887\"],[0.1111111111111111,\"#46039f\"],[0.2222222222222222,\"#7201a8\"],[0.3333333333333333,\"#9c179e\"],[0.4444444444444444,\"#bd3786\"],[0.5555555555555556,\"#d8576b\"],[0.6666666666666666,\"#ed7953\"],[0.7777777777777778,\"#fb9f3a\"],[0.8888888888888888,\"#fdca26\"],[1.0,\"#f0f921\"]]}],\"contourcarpet\":[{\"type\":\"contourcarpet\",\"colorbar\":{\"outlinewidth\":0,\"ticks\":\"\"}}],\"contour\":[{\"type\":\"contour\",\"colorbar\":{\"outlinewidth\":0,\"ticks\":\"\"},\"colorscale\":[[0.0,\"#0d0887\"],[0.1111111111111111,\"#46039f\"],[0.2222222222222222,\"#7201a8\"],[0.3333333333333333,\"#9c179e\"],[0.4444444444444444,\"#bd3786\"],[0.5555555555555556,\"#d8576b\"],[0.6666666666666666,\"#ed7953\"],[0.7777777777777778,\"#fb9f3a\"],[0.8888888888888888,\"#fdca26\"],[1.0,\"#f0f921\"]]}],\"surface\":[{\"type\":\"surface\",\"colorbar\":{\"outlinewidth\":0,\"ticks\":\"\"},\"colorscale\":[[0.0,\"#0d0887\"],[0.1111111111111111,\"#46039f\"],[0.2222222222222222,\"#7201a8\"],[0.3333333333333333,\"#9c179e\"],[0.4444444444444444,\"#bd3786\"],[0.5555555555555556,\"#d8576b\"],[0.6666666666666666,\"#ed7953\"],[0.7777777777777778,\"#fb9f3a\"],[0.8888888888888888,\"#fdca26\"],[1.0,\"#f0f921\"]]}],\"mesh3d\":[{\"type\":\"mesh3d\",\"colorbar\":{\"outlinewidth\":0,\"ticks\":\"\"}}],\"scatter\":[{\"fillpattern\":{\"fillmode\":\"overlay\",\"size\":10,\"solidity\":0.2},\"type\":\"scatter\"}],\"parcoords\":[{\"type\":\"parcoords\",\"line\":{\"colorbar\":{\"outlinewidth\":0,\"ticks\":\"\"}}}],\"scatterpolargl\":[{\"type\":\"scatterpolargl\",\"marker\":{\"colorbar\":{\"outlinewidth\":0,\"ticks\":\"\"}}}],\"bar\":[{\"error_x\":{\"color\":\"#2a3f5f\"},\"error_y\":{\"color\":\"#2a3f5f\"},\"marker\":{\"line\":{\"color\":\"#E5ECF6\",\"width\":0.5},\"pattern\":{\"fillmode\":\"overlay\",\"size\":10,\"solidity\":0.2}},\"type\":\"bar\"}],\"scattergeo\":[{\"type\":\"scattergeo\",\"marker\":{\"colorbar\":{\"outlinewidth\":0,\"ticks\":\"\"}}}],\"scatterpolar\":[{\"type\":\"scatterpolar\",\"marker\":{\"colorbar\":{\"outlinewidth\":0,\"ticks\":\"\"}}}],\"histogram\":[{\"marker\":{\"pattern\":{\"fillmode\":\"overlay\",\"size\":10,\"solidity\":0.2}},\"type\":\"histogram\"}],\"scattergl\":[{\"type\":\"scattergl\",\"marker\":{\"colorbar\":{\"outlinewidth\":0,\"ticks\":\"\"}}}],\"scatter3d\":[{\"type\":\"scatter3d\",\"line\":{\"colorbar\":{\"outlinewidth\":0,\"ticks\":\"\"}},\"marker\":{\"colorbar\":{\"outlinewidth\":0,\"ticks\":\"\"}}}],\"scattermapbox\":[{\"type\":\"scattermapbox\",\"marker\":{\"colorbar\":{\"outlinewidth\":0,\"ticks\":\"\"}}}],\"scatterternary\":[{\"type\":\"scatterternary\",\"marker\":{\"colorbar\":{\"outlinewidth\":0,\"ticks\":\"\"}}}],\"scattercarpet\":[{\"type\":\"scattercarpet\",\"marker\":{\"colorbar\":{\"outlinewidth\":0,\"ticks\":\"\"}}}],\"carpet\":[{\"aaxis\":{\"endlinecolor\":\"#2a3f5f\",\"gridcolor\":\"white\",\"linecolor\":\"white\",\"minorgridcolor\":\"white\",\"startlinecolor\":\"#2a3f5f\"},\"baxis\":{\"endlinecolor\":\"#2a3f5f\",\"gridcolor\":\"white\",\"linecolor\":\"white\",\"minorgridcolor\":\"white\",\"startlinecolor\":\"#2a3f5f\"},\"type\":\"carpet\"}],\"table\":[{\"cells\":{\"fill\":{\"color\":\"#EBF0F8\"},\"line\":{\"color\":\"white\"}},\"header\":{\"fill\":{\"color\":\"#C8D4E3\"},\"line\":{\"color\":\"white\"}},\"type\":\"table\"}],\"barpolar\":[{\"marker\":{\"line\":{\"color\":\"#E5ECF6\",\"width\":0.5},\"pattern\":{\"fillmode\":\"overlay\",\"size\":10,\"solidity\":0.2}},\"type\":\"barpolar\"}],\"pie\":[{\"automargin\":true,\"type\":\"pie\"}]},\"layout\":{\"autotypenumbers\":\"strict\",\"colorway\":[\"#636efa\",\"#EF553B\",\"#00cc96\",\"#ab63fa\",\"#FFA15A\",\"#19d3f3\",\"#FF6692\",\"#B6E880\",\"#FF97FF\",\"#FECB52\"],\"font\":{\"color\":\"#2a3f5f\"},\"hovermode\":\"closest\",\"hoverlabel\":{\"align\":\"left\"},\"paper_bgcolor\":\"white\",\"plot_bgcolor\":\"#E5ECF6\",\"polar\":{\"bgcolor\":\"#E5ECF6\",\"angularaxis\":{\"gridcolor\":\"white\",\"linecolor\":\"white\",\"ticks\":\"\"},\"radialaxis\":{\"gridcolor\":\"white\",\"linecolor\":\"white\",\"ticks\":\"\"}},\"ternary\":{\"bgcolor\":\"#E5ECF6\",\"aaxis\":{\"gridcolor\":\"white\",\"linecolor\":\"white\",\"ticks\":\"\"},\"baxis\":{\"gridcolor\":\"white\",\"linecolor\":\"white\",\"ticks\":\"\"},\"caxis\":{\"gridcolor\":\"white\",\"linecolor\":\"white\",\"ticks\":\"\"}},\"coloraxis\":{\"colorbar\":{\"outlinewidth\":0,\"ticks\":\"\"}},\"colorscale\":{\"sequential\":[[0.0,\"#0d0887\"],[0.1111111111111111,\"#46039f\"],[0.2222222222222222,\"#7201a8\"],[0.3333333333333333,\"#9c179e\"],[0.4444444444444444,\"#bd3786\"],[0.5555555555555556,\"#d8576b\"],[0.6666666666666666,\"#ed7953\"],[0.7777777777777778,\"#fb9f3a\"],[0.8888888888888888,\"#fdca26\"],[1.0,\"#f0f921\"]],\"sequentialminus\":[[0.0,\"#0d0887\"],[0.1111111111111111,\"#46039f\"],[0.2222222222222222,\"#7201a8\"],[0.3333333333333333,\"#9c179e\"],[0.4444444444444444,\"#bd3786\"],[0.5555555555555556,\"#d8576b\"],[0.6666666666666666,\"#ed7953\"],[0.7777777777777778,\"#fb9f3a\"],[0.8888888888888888,\"#fdca26\"],[1.0,\"#f0f921\"]],\"diverging\":[[0,\"#8e0152\"],[0.1,\"#c51b7d\"],[0.2,\"#de77ae\"],[0.3,\"#f1b6da\"],[0.4,\"#fde0ef\"],[0.5,\"#f7f7f7\"],[0.6,\"#e6f5d0\"],[0.7,\"#b8e186\"],[0.8,\"#7fbc41\"],[0.9,\"#4d9221\"],[1,\"#276419\"]]},\"xaxis\":{\"gridcolor\":\"white\",\"linecolor\":\"white\",\"ticks\":\"\",\"title\":{\"standoff\":15},\"zerolinecolor\":\"white\",\"automargin\":true,\"zerolinewidth\":2},\"yaxis\":{\"gridcolor\":\"white\",\"linecolor\":\"white\",\"ticks\":\"\",\"title\":{\"standoff\":15},\"zerolinecolor\":\"white\",\"automargin\":true,\"zerolinewidth\":2},\"scene\":{\"xaxis\":{\"backgroundcolor\":\"#E5ECF6\",\"gridcolor\":\"white\",\"linecolor\":\"white\",\"showbackground\":true,\"ticks\":\"\",\"zerolinecolor\":\"white\",\"gridwidth\":2},\"yaxis\":{\"backgroundcolor\":\"#E5ECF6\",\"gridcolor\":\"white\",\"linecolor\":\"white\",\"showbackground\":true,\"ticks\":\"\",\"zerolinecolor\":\"white\",\"gridwidth\":2},\"zaxis\":{\"backgroundcolor\":\"#E5ECF6\",\"gridcolor\":\"white\",\"linecolor\":\"white\",\"showbackground\":true,\"ticks\":\"\",\"zerolinecolor\":\"white\",\"gridwidth\":2}},\"shapedefaults\":{\"line\":{\"color\":\"#2a3f5f\"}},\"annotationdefaults\":{\"arrowcolor\":\"#2a3f5f\",\"arrowhead\":0,\"arrowwidth\":1},\"geo\":{\"bgcolor\":\"white\",\"landcolor\":\"#E5ECF6\",\"subunitcolor\":\"white\",\"showland\":true,\"showlakes\":true,\"lakecolor\":\"white\"},\"title\":{\"x\":0.05},\"mapbox\":{\"style\":\"light\"}}},\"geo\":{\"domain\":{\"x\":[0.0,1.0],\"y\":[0.0,1.0]},\"center\":{},\"fitbounds\":\"geojson\",\"scope\":\"europe\"},\"legend\":{\"title\":{\"text\":\"Location\"},\"tracegroupgap\":0,\"itemsizing\":\"constant\"},\"margin\":{\"t\":60},\"title\":{\"text\":\"Dissolved Oxygen content in water\"}},                        {\"responsive\": true}                    ).then(function(){\n",
       "                            \n",
       "var gd = document.getElementById('33590b33-0a2a-4d68-a2ee-95c659e929cb');\n",
       "var x = new MutationObserver(function (mutations, observer) {{\n",
       "        var display = window.getComputedStyle(gd).display;\n",
       "        if (!display || display === 'none') {{\n",
       "            console.log([gd, 'removed!']);\n",
       "            Plotly.purge(gd);\n",
       "            observer.disconnect();\n",
       "        }}\n",
       "}});\n",
       "\n",
       "// Listen for the removal of the full notebook cells\n",
       "var notebookContainer = gd.closest('#notebook-container');\n",
       "if (notebookContainer) {{\n",
       "    x.observe(notebookContainer, {childList: true});\n",
       "}}\n",
       "\n",
       "// Listen for the clearing of the current output cell\n",
       "var outputEl = gd.closest('.output');\n",
       "if (outputEl) {{\n",
       "    x.observe(outputEl, {childList: true});\n",
       "}}\n",
       "\n",
       "                        })                };                });            </script>        </div>"
      ]
     },
     "metadata": {},
     "output_type": "display_data"
    }
   ],
   "source": [
    "\n",
    "#df = concat.reset_index()\n",
    "\n",
    "#df1 = df.sort_values('Year')\n",
    "\n",
    "\n",
    "\n",
    "fig = px.scatter_geo(df2009month,\n",
    "                     lon ='Longitude',\n",
    "                     lat = 'Latitude',\n",
    "                     color=\"Location\",\n",
    "                     hover_name=\"text\",\n",
    "                     size=\"Nitrate as N\")\n",
    "                     #animation_frame=\"Year\",\n",
    "                     #animation_group = 'Location')\n",
    "\n",
    "fig.update_geos(fitbounds=\"geojson\")\n",
    "\n",
    "fig.update_layout(\n",
    "        title = 'Dissolved Oxygen content in water',\n",
    "        geo_scope='europe',)\n",
    "\n",
    "\n",
    "#fig.write_html('WaterQualityMap.html', auto_open=True)\n",
    "fig.show()"
   ]
  },
  {
   "cell_type": "code",
   "execution_count": null,
   "metadata": {},
   "outputs": [],
   "source": []
  },
  {
   "cell_type": "code",
   "execution_count": 25,
   "metadata": {},
   "outputs": [],
   "source": [
    "meandooc = pd.DataFrame.mean(dooc)\n",
    "mediandooc = pd.DataFrame.median(dooc)\n",
    "maxdooc = pd.DataFrame.max(dooc)\n",
    "mindooc = pd.DataFrame.min(dooc)\n",
    "describedooc = pd.DataFrame.describe(dooc)"
   ]
  },
  {
   "cell_type": "code",
   "execution_count": 247,
   "metadata": {},
   "outputs": [
    {
     "data": {
      "text/html": [
       "<div>\n",
       "<style scoped>\n",
       "    .dataframe tbody tr th:only-of-type {\n",
       "        vertical-align: middle;\n",
       "    }\n",
       "\n",
       "    .dataframe tbody tr th {\n",
       "        vertical-align: top;\n",
       "    }\n",
       "\n",
       "    .dataframe thead th {\n",
       "        text-align: right;\n",
       "    }\n",
       "</style>\n",
       "<table border=\"1\" class=\"dataframe\">\n",
       "  <thead>\n",
       "    <tr style=\"text-align: right;\">\n",
       "      <th></th>\n",
       "      <th>Water Type</th>\n",
       "      <th>Date</th>\n",
       "      <th>Year</th>\n",
       "      <th>Month</th>\n",
       "      <th>Location</th>\n",
       "      <th>Latitude</th>\n",
       "      <th>Longitude</th>\n",
       "      <th>Carbon, Organic, Dissolved as C :- {DOC}</th>\n",
       "      <th>pH</th>\n",
       "      <th>Nitrate as N</th>\n",
       "      <th>Oxygen, Dissolved as O2</th>\n",
       "      <th>text</th>\n",
       "    </tr>\n",
       "  </thead>\n",
       "  <tbody>\n",
       "    <tr>\n",
       "      <th>0</th>\n",
       "      <td>GROUNDWATER</td>\n",
       "      <td>2004-03</td>\n",
       "      <td>2004</td>\n",
       "      <td>3</td>\n",
       "      <td>1/22/05/68 DOE HILL</td>\n",
       "      <td>55.221358</td>\n",
       "      <td>-1.808043</td>\n",
       "      <td>0.00</td>\n",
       "      <td>7.7</td>\n",
       "      <td>4.290000</td>\n",
       "      <td>8.67</td>\n",
       "      <td>Dissolved Organic Carbon Content = 0.0        ...</td>\n",
       "    </tr>\n",
       "    <tr>\n",
       "      <th>1</th>\n",
       "      <td>GROUNDWATER</td>\n",
       "      <td>2007-10</td>\n",
       "      <td>2007</td>\n",
       "      <td>10</td>\n",
       "      <td>HURY FARM</td>\n",
       "      <td>54.579332</td>\n",
       "      <td>-2.060768</td>\n",
       "      <td>1.81</td>\n",
       "      <td>0.0</td>\n",
       "      <td>4.000000</td>\n",
       "      <td>0.00</td>\n",
       "      <td>Dissolved Organic Carbon Content = 1.81       ...</td>\n",
       "    </tr>\n",
       "    <tr>\n",
       "      <th>2</th>\n",
       "      <td>GROUNDWATER</td>\n",
       "      <td>2009-01</td>\n",
       "      <td>2009</td>\n",
       "      <td>1</td>\n",
       "      <td>HURY FARM</td>\n",
       "      <td>54.579332</td>\n",
       "      <td>-2.060768</td>\n",
       "      <td>1.97</td>\n",
       "      <td>0.0</td>\n",
       "      <td>5.150000</td>\n",
       "      <td>11.90</td>\n",
       "      <td>Dissolved Organic Carbon Content = 1.97       ...</td>\n",
       "    </tr>\n",
       "    <tr>\n",
       "      <th>3</th>\n",
       "      <td>GROUNDWATER</td>\n",
       "      <td>2009-02</td>\n",
       "      <td>2009</td>\n",
       "      <td>2</td>\n",
       "      <td>HURY FARM</td>\n",
       "      <td>54.579332</td>\n",
       "      <td>-2.060768</td>\n",
       "      <td>1.13</td>\n",
       "      <td>0.0</td>\n",
       "      <td>4.950000</td>\n",
       "      <td>8.24</td>\n",
       "      <td>Dissolved Organic Carbon Content = 1.13       ...</td>\n",
       "    </tr>\n",
       "    <tr>\n",
       "      <th>4</th>\n",
       "      <td>GROUNDWATER</td>\n",
       "      <td>2009-11</td>\n",
       "      <td>2009</td>\n",
       "      <td>11</td>\n",
       "      <td>HURY FARM</td>\n",
       "      <td>54.579332</td>\n",
       "      <td>-2.060768</td>\n",
       "      <td>3.52</td>\n",
       "      <td>0.0</td>\n",
       "      <td>5.550000</td>\n",
       "      <td>11.90</td>\n",
       "      <td>Dissolved Organic Carbon Content = 3.52       ...</td>\n",
       "    </tr>\n",
       "    <tr>\n",
       "      <th>...</th>\n",
       "      <td>...</td>\n",
       "      <td>...</td>\n",
       "      <td>...</td>\n",
       "      <td>...</td>\n",
       "      <td>...</td>\n",
       "      <td>...</td>\n",
       "      <td>...</td>\n",
       "      <td>...</td>\n",
       "      <td>...</td>\n",
       "      <td>...</td>\n",
       "      <td>...</td>\n",
       "      <td>...</td>\n",
       "    </tr>\n",
       "    <tr>\n",
       "      <th>684</th>\n",
       "      <td>RIVER / RUNNING SURFACE WATER</td>\n",
       "      <td>2022-04</td>\n",
       "      <td>2022</td>\n",
       "      <td>4</td>\n",
       "      <td>TILL @ HEATON MILL</td>\n",
       "      <td>55.674946</td>\n",
       "      <td>-2.160534</td>\n",
       "      <td>0.00</td>\n",
       "      <td>0.0</td>\n",
       "      <td>1.917500</td>\n",
       "      <td>0.00</td>\n",
       "      <td>Dissolved Organic Carbon Content = 0.0        ...</td>\n",
       "    </tr>\n",
       "    <tr>\n",
       "      <th>685</th>\n",
       "      <td>RIVER / RUNNING SURFACE WATER</td>\n",
       "      <td>2022-05</td>\n",
       "      <td>2022</td>\n",
       "      <td>5</td>\n",
       "      <td>TILL @ HEATON MILL</td>\n",
       "      <td>55.674946</td>\n",
       "      <td>-2.160534</td>\n",
       "      <td>0.00</td>\n",
       "      <td>0.0</td>\n",
       "      <td>1.556667</td>\n",
       "      <td>0.00</td>\n",
       "      <td>Dissolved Organic Carbon Content = 0.0        ...</td>\n",
       "    </tr>\n",
       "    <tr>\n",
       "      <th>686</th>\n",
       "      <td>RIVER / RUNNING SURFACE WATER</td>\n",
       "      <td>2022-06</td>\n",
       "      <td>2022</td>\n",
       "      <td>6</td>\n",
       "      <td>TILL @ HEATON MILL</td>\n",
       "      <td>55.674946</td>\n",
       "      <td>-2.160534</td>\n",
       "      <td>0.00</td>\n",
       "      <td>0.0</td>\n",
       "      <td>1.656667</td>\n",
       "      <td>0.00</td>\n",
       "      <td>Dissolved Organic Carbon Content = 0.0        ...</td>\n",
       "    </tr>\n",
       "    <tr>\n",
       "      <th>687</th>\n",
       "      <td>RIVER / RUNNING SURFACE WATER</td>\n",
       "      <td>2022-07</td>\n",
       "      <td>2022</td>\n",
       "      <td>7</td>\n",
       "      <td>TILL @ HEATON MILL</td>\n",
       "      <td>55.674946</td>\n",
       "      <td>-2.160534</td>\n",
       "      <td>0.00</td>\n",
       "      <td>0.0</td>\n",
       "      <td>1.565000</td>\n",
       "      <td>0.00</td>\n",
       "      <td>Dissolved Organic Carbon Content = 0.0        ...</td>\n",
       "    </tr>\n",
       "    <tr>\n",
       "      <th>688</th>\n",
       "      <td>RIVER / RUNNING SURFACE WATER</td>\n",
       "      <td>2022-08</td>\n",
       "      <td>2022</td>\n",
       "      <td>8</td>\n",
       "      <td>TILL @ HEATON MILL</td>\n",
       "      <td>55.674946</td>\n",
       "      <td>-2.160534</td>\n",
       "      <td>0.00</td>\n",
       "      <td>0.0</td>\n",
       "      <td>1.490000</td>\n",
       "      <td>0.00</td>\n",
       "      <td>Dissolved Organic Carbon Content = 0.0        ...</td>\n",
       "    </tr>\n",
       "  </tbody>\n",
       "</table>\n",
       "<p>689 rows × 12 columns</p>\n",
       "</div>"
      ],
      "text/plain": [
       "                        Water Type     Date  Year  Month             Location  \\\n",
       "0                      GROUNDWATER  2004-03  2004      3  1/22/05/68 DOE HILL   \n",
       "1                      GROUNDWATER  2007-10  2007     10            HURY FARM   \n",
       "2                      GROUNDWATER  2009-01  2009      1            HURY FARM   \n",
       "3                      GROUNDWATER  2009-02  2009      2            HURY FARM   \n",
       "4                      GROUNDWATER  2009-11  2009     11            HURY FARM   \n",
       "..                             ...      ...   ...    ...                  ...   \n",
       "684  RIVER / RUNNING SURFACE WATER  2022-04  2022      4   TILL @ HEATON MILL   \n",
       "685  RIVER / RUNNING SURFACE WATER  2022-05  2022      5   TILL @ HEATON MILL   \n",
       "686  RIVER / RUNNING SURFACE WATER  2022-06  2022      6   TILL @ HEATON MILL   \n",
       "687  RIVER / RUNNING SURFACE WATER  2022-07  2022      7   TILL @ HEATON MILL   \n",
       "688  RIVER / RUNNING SURFACE WATER  2022-08  2022      8   TILL @ HEATON MILL   \n",
       "\n",
       "      Latitude  Longitude  Carbon, Organic, Dissolved as C :- {DOC}   pH  \\\n",
       "0    55.221358  -1.808043                                      0.00  7.7   \n",
       "1    54.579332  -2.060768                                      1.81  0.0   \n",
       "2    54.579332  -2.060768                                      1.97  0.0   \n",
       "3    54.579332  -2.060768                                      1.13  0.0   \n",
       "4    54.579332  -2.060768                                      3.52  0.0   \n",
       "..         ...        ...                                       ...  ...   \n",
       "684  55.674946  -2.160534                                      0.00  0.0   \n",
       "685  55.674946  -2.160534                                      0.00  0.0   \n",
       "686  55.674946  -2.160534                                      0.00  0.0   \n",
       "687  55.674946  -2.160534                                      0.00  0.0   \n",
       "688  55.674946  -2.160534                                      0.00  0.0   \n",
       "\n",
       "     Nitrate as N  Oxygen, Dissolved as O2  \\\n",
       "0        4.290000                     8.67   \n",
       "1        4.000000                     0.00   \n",
       "2        5.150000                    11.90   \n",
       "3        4.950000                     8.24   \n",
       "4        5.550000                    11.90   \n",
       "..            ...                      ...   \n",
       "684      1.917500                     0.00   \n",
       "685      1.556667                     0.00   \n",
       "686      1.656667                     0.00   \n",
       "687      1.565000                     0.00   \n",
       "688      1.490000                     0.00   \n",
       "\n",
       "                                                  text  \n",
       "0    Dissolved Organic Carbon Content = 0.0        ...  \n",
       "1    Dissolved Organic Carbon Content = 1.81       ...  \n",
       "2    Dissolved Organic Carbon Content = 1.97       ...  \n",
       "3    Dissolved Organic Carbon Content = 1.13       ...  \n",
       "4    Dissolved Organic Carbon Content = 3.52       ...  \n",
       "..                                                 ...  \n",
       "684  Dissolved Organic Carbon Content = 0.0        ...  \n",
       "685  Dissolved Organic Carbon Content = 0.0        ...  \n",
       "686  Dissolved Organic Carbon Content = 0.0        ...  \n",
       "687  Dissolved Organic Carbon Content = 0.0        ...  \n",
       "688  Dissolved Organic Carbon Content = 0.0        ...  \n",
       "\n",
       "[689 rows x 12 columns]"
      ]
     },
     "execution_count": 247,
     "metadata": {},
     "output_type": "execute_result"
    }
   ],
   "source": []
  },
  {
   "cell_type": "code",
   "execution_count": 253,
   "metadata": {},
   "outputs": [
    {
     "data": {
      "text/plain": [
       "numpy.int64"
      ]
     },
     "execution_count": 253,
     "metadata": {},
     "output_type": "execute_result"
    }
   ],
   "source": []
  },
  {
   "cell_type": "code",
   "execution_count": 23,
   "metadata": {},
   "outputs": [
    {
     "data": {
      "text/plain": [
       "<seaborn.axisgrid.PairGrid at 0x2a46fbfbe50>"
      ]
     },
     "execution_count": 23,
     "metadata": {},
     "output_type": "execute_result"
    },
    {
     "data": {
      "image/png": "[encoded data removed]",
      "text/plain": [
       "<Figure size 720x720 with 20 Axes>"
      ]
     },
     "metadata": {
      "needs_background": "light"
     },
     "output_type": "display_data"
    }
   ],
   "source": [
    "sns.pairplot(concat, dropna = True)"
   ]
  },
  {
   "cell_type": "code",
   "execution_count": null,
   "metadata": {},
   "outputs": [],
   "source": []
  },
  {
   "cell_type": "code",
   "execution_count": null,
   "metadata": {},
   "outputs": [],
   "source": []
  },
  {
   "cell_type": "code",
   "execution_count": 33,
   "metadata": {},
   "outputs": [
    {
     "data": {
      "text/html": [
       "<div>\n",
       "<style scoped>\n",
       "    .dataframe tbody tr th:only-of-type {\n",
       "        vertical-align: middle;\n",
       "    }\n",
       "\n",
       "    .dataframe tbody tr th {\n",
       "        vertical-align: top;\n",
       "    }\n",
       "\n",
       "    .dataframe thead th {\n",
       "        text-align: right;\n",
       "    }\n",
       "</style>\n",
       "<table border=\"1\" class=\"dataframe\">\n",
       "  <thead>\n",
       "    <tr style=\"text-align: right;\">\n",
       "      <th></th>\n",
       "      <th>Carbon, Organic, Dissolved as C :- {DOC}</th>\n",
       "      <th>pH</th>\n",
       "      <th>Nitrate as N</th>\n",
       "      <th>Oxygen, Dissolved as O2</th>\n",
       "    </tr>\n",
       "  </thead>\n",
       "  <tbody>\n",
       "    <tr>\n",
       "      <th>count</th>\n",
       "      <td>689.000000</td>\n",
       "      <td>689.000000</td>\n",
       "      <td>689.000000</td>\n",
       "      <td>689.000000</td>\n",
       "    </tr>\n",
       "    <tr>\n",
       "      <th>mean</th>\n",
       "      <td>5.044548</td>\n",
       "      <td>3.885658</td>\n",
       "      <td>0.769348</td>\n",
       "      <td>2.014855</td>\n",
       "    </tr>\n",
       "    <tr>\n",
       "      <th>std</th>\n",
       "      <td>6.584705</td>\n",
       "      <td>3.868961</td>\n",
       "      <td>1.462180</td>\n",
       "      <td>4.086574</td>\n",
       "    </tr>\n",
       "    <tr>\n",
       "      <th>min</th>\n",
       "      <td>0.000000</td>\n",
       "      <td>0.000000</td>\n",
       "      <td>0.000000</td>\n",
       "      <td>0.000000</td>\n",
       "    </tr>\n",
       "    <tr>\n",
       "      <th>25%</th>\n",
       "      <td>0.000000</td>\n",
       "      <td>0.000000</td>\n",
       "      <td>0.000000</td>\n",
       "      <td>0.000000</td>\n",
       "    </tr>\n",
       "    <tr>\n",
       "      <th>50%</th>\n",
       "      <td>0.000000</td>\n",
       "      <td>6.300000</td>\n",
       "      <td>0.190500</td>\n",
       "      <td>0.000000</td>\n",
       "    </tr>\n",
       "    <tr>\n",
       "      <th>75%</th>\n",
       "      <td>9.980000</td>\n",
       "      <td>7.730000</td>\n",
       "      <td>1.006500</td>\n",
       "      <td>0.000000</td>\n",
       "    </tr>\n",
       "    <tr>\n",
       "      <th>max</th>\n",
       "      <td>25.850000</td>\n",
       "      <td>9.240000</td>\n",
       "      <td>10.400000</td>\n",
       "      <td>13.400000</td>\n",
       "    </tr>\n",
       "  </tbody>\n",
       "</table>\n",
       "</div>"
      ],
      "text/plain": [
       "       Carbon, Organic, Dissolved as C :- {DOC}          pH  Nitrate as N  \\\n",
       "count                                689.000000  689.000000    689.000000   \n",
       "mean                                   5.044548    3.885658      0.769348   \n",
       "std                                    6.584705    3.868961      1.462180   \n",
       "min                                    0.000000    0.000000      0.000000   \n",
       "25%                                    0.000000    0.000000      0.000000   \n",
       "50%                                    0.000000    6.300000      0.190500   \n",
       "75%                                    9.980000    7.730000      1.006500   \n",
       "max                                   25.850000    9.240000     10.400000   \n",
       "\n",
       "       Oxygen, Dissolved as O2  \n",
       "count               689.000000  \n",
       "mean                  2.014855  \n",
       "std                   4.086574  \n",
       "min                   0.000000  \n",
       "25%                   0.000000  \n",
       "50%                   0.000000  \n",
       "75%                   0.000000  \n",
       "max                  13.400000  "
      ]
     },
     "execution_count": 33,
     "metadata": {},
     "output_type": "execute_result"
    }
   ],
   "source": [
    "pd.DataFrame.describe(concat)"
   ]
  },
  {
   "cell_type": "code",
   "execution_count": null,
   "metadata": {},
   "outputs": [],
   "source": [
    "\n"
   ]
  },
  {
   "cell_type": "code",
   "execution_count": null,
   "metadata": {},
   "outputs": [],
   "source": []
  },
  {
   "cell_type": "code",
   "execution_count": null,
   "metadata": {},
   "outputs": [],
   "source": []
  },
  {
   "cell_type": "code",
   "execution_count": null,
   "metadata": {},
   "outputs": [],
   "source": []
  },
  {
   "cell_type": "code",
   "execution_count": null,
   "metadata": {},
   "outputs": [],
   "source": []
  },
  {
   "cell_type": "code",
   "execution_count": 27,
   "metadata": {},
   "outputs": [
    {
     "data": {
      "text/plain": [
       "<seaborn.axisgrid.PairGrid at 0x2a46d46bcd0>"
      ]
     },
     "execution_count": 27,
     "metadata": {},
     "output_type": "execute_result"
    },
    {
     "data": {
      "image/png": "[encoded data removed]",
      "text/plain": [
       "<Figure size 720x720 with 20 Axes>"
      ]
     },
     "metadata": {
      "needs_background": "light"
     },
     "output_type": "display_data"
    }
   ],
   "source": [
    "concat11 = pd.DataFrame(concat)\n",
    "concat12= concat11.loc[~(concat11==0).all(axis=1)]\n",
    "\n",
    "\n",
    "sns.pairplot(concat12)"
   ]
  },
  {
   "cell_type": "code",
   "execution_count": null,
   "metadata": {},
   "outputs": [],
   "source": []
  },
  {
   "cell_type": "code",
   "execution_count": 35,
   "metadata": {},
   "outputs": [
    {
     "data": {
      "text/plain": [
       "<AxesSubplot:ylabel='Count'>"
      ]
     },
     "execution_count": 35,
     "metadata": {},
     "output_type": "execute_result"
    },
    {
     "data": {
      "image/png": "[encoded data removed]",
      "text/plain": [
       "<Figure size 432x288 with 1 Axes>"
      ]
     },
     "metadata": {
      "needs_background": "light"
     },
     "output_type": "display_data"
    }
   ],
   "source": [
    "o21 = pd.DataFrame(o2)\n",
    "o2no0= o21.loc[~(o21==0).all(axis=1)]\n",
    "\n",
    "o2no0\n",
    "sns.histplot(o2no0)"
   ]
  },
  {
   "cell_type": "code",
   "execution_count": 38,
   "metadata": {},
   "outputs": [
    {
     "data": {
      "text/plain": [
       "<AxesSubplot:ylabel='Count'>"
      ]
     },
     "execution_count": 38,
     "metadata": {},
     "output_type": "execute_result"
    },
    {
     "data": {
      "image/png": "[encoded data removed]",
      "text/plain": [
       "<Figure size 432x288 with 1 Axes>"
      ]
     },
     "metadata": {
      "needs_background": "light"
     },
     "output_type": "display_data"
    }
   ],
   "source": [
    "nitrate1 = pd.DataFrame(nitrate)\n",
    "#nitrateno0= nitrate1.loc[~(nitrate1==0).all(axis=1)]\n",
    "\n",
    "#nitrateno0\n",
    "sns.histplot(nitrate1)"
   ]
  },
  {
   "cell_type": "code",
   "execution_count": 36,
   "metadata": {},
   "outputs": [
    {
     "data": {
      "text/plain": [
       "<AxesSubplot:ylabel='Count'>"
      ]
     },
     "execution_count": 36,
     "metadata": {},
     "output_type": "execute_result"
    },
    {
     "data": {
      "image/png": "[encoded data removed]",
      "text/plain": [
       "<Figure size 432x288 with 1 Axes>"
      ]
     },
     "metadata": {
      "needs_background": "light"
     },
     "output_type": "display_data"
    }
   ],
   "source": [
    "pH1 = pd.DataFrame(pH)\n",
    "pHno0= pH1.loc[~(pH1==0).all(axis=1)]\n",
    "\n",
    "pHno0\n",
    "sns.histplot(pHno0)"
   ]
  },
  {
   "cell_type": "code",
   "execution_count": null,
   "metadata": {},
   "outputs": [],
   "source": []
  },
  {
   "cell_type": "code",
   "execution_count": null,
   "metadata": {},
   "outputs": [],
   "source": []
  }
 ],
 "metadata": {
  "interpreter": {
   "hash": "be6b7ed3bb9cd3c0dca6bed2ebbf120e1e8b4cc38914483b589e24857cf4ef3b"
  },
  "kernelspec": {
   "display_name": "Python 3",
   "language": "python",
   "name": "python3"
  },
  "language_info": {
   "codemirror_mode": {
    "name": "ipython",
    "version": 3
   },
   "file_extension": ".py",
   "mimetype": "text/x-python",
   "name": "python",
   "nbconvert_exporter": "python",
   "pygments_lexer": "ipython3",
   "version": "3.8.8"
  }
 },
 "nbformat": 4,
 "nbformat_minor": 2
}
